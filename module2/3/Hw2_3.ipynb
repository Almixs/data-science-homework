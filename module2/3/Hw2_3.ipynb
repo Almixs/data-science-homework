{
  "nbformat": 4,
  "nbformat_minor": 0,
  "metadata": {
    "colab": {
      "provenance": []
    },
    "kernelspec": {
      "name": "python3",
      "display_name": "Python 3"
    },
    "language_info": {
      "name": "python"
    }
  },
  "cells": [
    {
      "cell_type": "code",
      "execution_count": 2,
      "metadata": {
        "id": "0cMn1bzBY-We"
      },
      "outputs": [],
      "source": [
        "import pandas as pd\n",
        "import matplotlib.pyplot as plt"
      ]
    },
    {
      "cell_type": "code",
      "source": [
        "df = pd.read_csv(\"bestsellers with categories.csv\")\n",
        "\n",
        "print(df.head())\n",
        "print(df.shape)\n",
        "\n",
        "# Про скільки книг зберігає дані датасет?  550 (номерація від 0 до 549)"
      ],
      "metadata": {
        "colab": {
          "base_uri": "https://localhost:8080/"
        },
        "id": "Gf1rLhRSZUez",
        "outputId": "66512cdb-a42b-41a3-aefc-ea2e3fa8f4b6"
      },
      "execution_count": 4,
      "outputs": [
        {
          "output_type": "stream",
          "name": "stdout",
          "text": [
            "                                                Name  \\\n",
            "0                      10-Day Green Smoothie Cleanse   \n",
            "1                                  11/22/63: A Novel   \n",
            "2            12 Rules for Life: An Antidote to Chaos   \n",
            "3                             1984 (Signet Classics)   \n",
            "4  5,000 Awesome Facts (About Everything!) (Natio...   \n",
            "\n",
            "                     Author  User Rating  Reviews  Price  Year        Genre  \n",
            "0                  JJ Smith          4.7    17350      8  2016  Non Fiction  \n",
            "1              Stephen King          4.6     2052     22  2011      Fiction  \n",
            "2        Jordan B. Peterson          4.7    18979     15  2018  Non Fiction  \n",
            "3             George Orwell          4.7    21424      6  2017      Fiction  \n",
            "4  National Geographic Kids          4.8     7665     12  2019  Non Fiction  \n",
            "(550, 7)\n"
          ]
        }
      ]
    },
    {
      "cell_type": "code",
      "source": [
        "df.columns = ['name', 'author', 'user_rating', 'reviews', 'price', 'year', 'genre']\n",
        "\n",
        "na_counts = df.isna().sum()\n",
        "print(na_counts)\n",
        "\n",
        "# Чи є в якихось змінних пропуски? Ні, немає"
      ],
      "metadata": {
        "colab": {
          "base_uri": "https://localhost:8080/"
        },
        "id": "c1586K6DZqud",
        "outputId": "113781e7-7ba4-4dfc-c2d3-33a98ced05e0"
      },
      "execution_count": 5,
      "outputs": [
        {
          "output_type": "stream",
          "name": "stdout",
          "text": [
            "name           0\n",
            "author         0\n",
            "user_rating    0\n",
            "reviews        0\n",
            "price          0\n",
            "year           0\n",
            "genre          0\n",
            "dtype: int64\n"
          ]
        }
      ]
    },
    {
      "cell_type": "code",
      "source": [
        "unique_genres = df['genre'].unique()\n",
        "print(unique_genres)\n",
        "\n",
        "# Які є унікальні жанри? в колонці genre є 'Non Fiction' і 'Fiction'"
      ],
      "metadata": {
        "colab": {
          "base_uri": "https://localhost:8080/"
        },
        "id": "TtaY1EYqZuhC",
        "outputId": "ba99bc41-7ba0-4069-a70c-90296dfc7e3c"
      },
      "execution_count": 6,
      "outputs": [
        {
          "output_type": "stream",
          "name": "stdout",
          "text": [
            "['Non Fiction' 'Fiction']\n"
          ]
        }
      ]
    },
    {
      "cell_type": "code",
      "source": [
        "df['price'].plot(kind='hist', bins=10, edgecolor='black', figsize=(8, 6))\n",
        "plt.xlabel('Ціна')\n",
        "plt.ylabel('Кількість')\n",
        "plt.title('Розподіл цін')\n",
        "plt.grid(True)\n",
        "plt.show()"
      ],
      "metadata": {
        "colab": {
          "base_uri": "https://localhost:8080/",
          "height": 564
        },
        "id": "iSavO0UkZyL5",
        "outputId": "cadb87bb-2db1-456a-880c-ace02d375f45"
      },
      "execution_count": 7,
      "outputs": [
        {
          "output_type": "display_data",
          "data": {
            "text/plain": [
              "<Figure size 800x600 with 1 Axes>"
            ],
            "image/png": "[encoded data removed]"
          },
          "metadata": {}
        }
      ]
    },
    {
      "cell_type": "code",
      "source": [
        "max_price = df['price'].max()\n",
        "min_price = df['price'].min()\n",
        "mean_price = df['price'].mean()\n",
        "median_price = df['price'].median()\n",
        "\n",
        "print(f\"Максимальна ціна: {max_price}\")\n",
        "print(f\"Мінімальна ціна: {min_price}\")\n",
        "print(f\"Середня ціна: {mean_price}\")\n",
        "print(f\"Медіанна ціна: {median_price}\")\n",
        "\n",
        "# Максимальна ціна? 105\n",
        "# Мінімальна ціна? 0\n",
        "# Середня ціна? 13.1\n",
        "# Медіанна ціна? 11.0"
      ],
      "metadata": {
        "colab": {
          "base_uri": "https://localhost:8080/"
        },
        "id": "Oh3kKfhWZ8ok",
        "outputId": "b8c2cd9f-16eb-41ff-9e40-4480a9a53db8"
      },
      "execution_count": 8,
      "outputs": [
        {
          "output_type": "stream",
          "name": "stdout",
          "text": [
            "Максимальна ціна: 105\n",
            "Мінімальна ціна: 0\n",
            "Середня ціна: 13.1\n",
            "Медіанна ціна: 11.0\n"
          ]
        }
      ]
    },
    {
      "cell_type": "code",
      "source": [
        "# Який рейтинг у датасеті найвищий? 4.9\n",
        "max_rating = df['user_rating'].max()\n",
        "print(f\"Найвищий рейтинг: {max_rating}\")"
      ],
      "metadata": {
        "colab": {
          "base_uri": "https://localhost:8080/"
        },
        "id": "CvnVGUaYZ_s8",
        "outputId": "ffc80281-f284-4a0c-bfa3-625a570d3b67"
      },
      "execution_count": 9,
      "outputs": [
        {
          "output_type": "stream",
          "name": "stdout",
          "text": [
            "Найвищий рейтинг: 4.9\n"
          ]
        }
      ]
    },
    {
      "cell_type": "code",
      "source": [
        "# Скільки книг мають такий рейтинг? 52\n",
        "books_with_max_rating = df[df['user_rating'] == max_rating].shape[0]\n",
        "print(f\"Кількість книг з найвищим рейтингом ({max_rating}): {books_with_max_rating}\")"
      ],
      "metadata": {
        "colab": {
          "base_uri": "https://localhost:8080/"
        },
        "id": "w6eZ_KO1aBxu",
        "outputId": "2d0035ab-1180-4ade-bb2b-419aaf98950b"
      },
      "execution_count": 10,
      "outputs": [
        {
          "output_type": "stream",
          "name": "stdout",
          "text": [
            "Кількість книг з найвищим рейтингом (4.9): 52\n"
          ]
        }
      ]
    },
    {
      "cell_type": "code",
      "source": [
        "# Яка книга має найбільше відгуків? Where the Crawdads Sing\n",
        "book_with_most_reviews = df[df['reviews'] == df['reviews'].max()]['name'].iloc[0]\n",
        "print(f\"Книга з найбільшою кількістю відгуків: {book_with_most_reviews}\")"
      ],
      "metadata": {
        "colab": {
          "base_uri": "https://localhost:8080/"
        },
        "id": "EAduKymtaGc-",
        "outputId": "50e99824-631a-4d86-c198-6cfeb4d604b5"
      },
      "execution_count": 11,
      "outputs": [
        {
          "output_type": "stream",
          "name": "stdout",
          "text": [
            "Книга з найбільшою кількістю відгуків: Where the Crawdads Sing\n"
          ]
        }
      ]
    },
    {
      "cell_type": "code",
      "source": [
        "# З тих книг, що потрапили до Топ-50 у 2015 році, яка книга найдорожча? Publication Manual of the American Psychological Association, 6th Edition\n",
        "top_50_2015 = df[(df['year'] == 2015) & (df['user_rating'] >= 4.5)].sort_values(by='price')\n",
        "most_expensive_2015 = top_50_2015.iloc[-1]['name']\n",
        "print(f\"Найдорожча книга з Топ-50 у 2015 році: {most_expensive_2015}\")"
      ],
      "metadata": {
        "colab": {
          "base_uri": "https://localhost:8080/"
        },
        "id": "j5sbWhI6aLAc",
        "outputId": "bd72788d-9ba5-452e-b3f9-874c2c81ba65"
      },
      "execution_count": 12,
      "outputs": [
        {
          "output_type": "stream",
          "name": "stdout",
          "text": [
            "Найдорожча книга з Топ-50 у 2015 році: Publication Manual of the American Psychological Association, 6th Edition\n"
          ]
        }
      ]
    },
    {
      "cell_type": "code",
      "source": [
        "# Скільки книг жанру Fiction потрапили до Топ-50 у 2010 році? 16\n",
        "fiction_top_50_2010 = df[(df['year'] == 2010) & (df['genre'] == 'Fiction') & (df['user_rating'] >= 4.5)].shape[0]\n",
        "print(f\"Кількість книг жанру Fiction у Топ-50 у 2010 році: {fiction_top_50_2010}\")"
      ],
      "metadata": {
        "colab": {
          "base_uri": "https://localhost:8080/"
        },
        "id": "IWPJN3HiaPoR",
        "outputId": "237be8e8-82a8-4f66-d726-b7b04bec523a"
      },
      "execution_count": 13,
      "outputs": [
        {
          "output_type": "stream",
          "name": "stdout",
          "text": [
            "Кількість книг жанру Fiction у Топ-50 у 2010 році: 16\n"
          ]
        }
      ]
    },
    {
      "cell_type": "code",
      "source": [
        "# Скільки книг з рейтингом 4.9 потрапило до рейтингу у 2010 та 2011 роках? 1\n",
        "rating_4_9_2010_2011 = df[(df['user_rating'] == 4.9) & ((df['year'] == 2010) | (df['year'] == 2011))].shape[0]\n",
        "print(f\"Кількість книг з рейтингом 4.9 у 2010 та 2011 роках: {rating_4_9_2010_2011}\")"
      ],
      "metadata": {
        "colab": {
          "base_uri": "https://localhost:8080/"
        },
        "id": "K1s4wiY2aTFi",
        "outputId": "dabb2fc3-ea75-4dad-c40a-6bf16099ba43"
      },
      "execution_count": 14,
      "outputs": [
        {
          "output_type": "stream",
          "name": "stdout",
          "text": [
            "Кількість книг з рейтингом 4.9 у 2010 та 2011 роках: 1\n"
          ]
        }
      ]
    },
    {
      "cell_type": "code",
      "source": [
        "#Яка книга остання у відсортованому списку?  Old School (Diary of a Wimpy Kid #10)\n",
        "sorted_books_2015_under_8 = df[(df['year'] == 2015) & (df['price'] < 8)].sort_values(by='price')\n",
        "last_book_sorted = sorted_books_2015_under_8.iloc[-1]['name']\n",
        "print(f\"Остання книга у відсортованому списку: {last_book_sorted}\")"
      ],
      "metadata": {
        "colab": {
          "base_uri": "https://localhost:8080/"
        },
        "id": "OLjd6713acAC",
        "outputId": "7a9c5ec6-b7ad-4410-d0e1-3444fd7110b6"
      },
      "execution_count": 15,
      "outputs": [
        {
          "output_type": "stream",
          "name": "stdout",
          "text": [
            "Остання книга у відсортованому списку: Old School (Diary of a Wimpy Kid #10)\n"
          ]
        }
      ]
    },
    {
      "cell_type": "code",
      "source": [
        "genre_prices = df.groupby('genre')['price'].agg(['max', 'min'])\n",
        "\n",
        "max_price_fiction = genre_prices.loc['Fiction', 'max']\n",
        "min_price_fiction = genre_prices.loc['Fiction', 'min']\n",
        "\n",
        "max_price_non_fiction = genre_prices.loc['Non Fiction', 'max']\n",
        "min_price_non_fiction = genre_prices.loc['Non Fiction', 'min']\n",
        "\n",
        "print(f\"Максимальна ціна для жанру Fiction: {max_price_fiction}\")\n",
        "print(f\"Мінімальна ціна для жанру Fiction: {min_price_fiction}\")\n",
        "print(f\"Максимальна ціна для жанру Non Fiction: {max_price_non_fiction}\")\n",
        "print(f\"Мінімальна ціна для жанру Non Fiction: {min_price_non_fiction}\")\n",
        "\n",
        "#Максимальна ціна для жанру Fiction: 82\n",
        "#Мінімальна ціна для жанру Fiction: 0\n",
        "#Максимальна ціна для жанру Non Fiction: 105\n",
        "#Мінімальна ціна для жанру Non Fiction: 0"
      ],
      "metadata": {
        "colab": {
          "base_uri": "https://localhost:8080/"
        },
        "id": "h6_5ljcDa17w",
        "outputId": "09b16765-84ab-4de5-aaeb-d0851184cd40"
      },
      "execution_count": 16,
      "outputs": [
        {
          "output_type": "stream",
          "name": "stdout",
          "text": [
            "Максимальна ціна для жанру Fiction: 82\n",
            "Мінімальна ціна для жанру Fiction: 0\n",
            "Максимальна ціна для жанру Non Fiction: 105\n",
            "Мінімальна ціна для жанру Non Fiction: 0\n"
          ]
        }
      ]
    },
    {
      "cell_type": "code",
      "source": [
        "author_books_count = df.groupby('author')['name'].agg('count').reset_index()\n",
        "\n",
        "print(author_books_count)\n",
        "\n",
        "table_shape = author_books_count.shape\n",
        "print(f\"Розмірність таблиці: {table_shape}\")\n",
        "\n",
        "max_books_author = author_books_count[author_books_count['name'] == author_books_count['name'].max()]\n",
        "max_books_author_name = max_books_author.iloc[0]['author']\n",
        "max_books_count = max_books_author.iloc[0]['name']\n",
        "\n",
        "print(f\"Автор з найбільшою кількістю книг: {max_books_author_name}\")\n",
        "print(f\"Кількість книг цього автора: {max_books_count}\")\n",
        "\n",
        "#Якої розмірності вийшла таблиця? 248, 2\n",
        "#Який автор має найбільше книг? Jeff Kinney\n",
        "#Скільки книг цього автора? 12"
      ],
      "metadata": {
        "colab": {
          "base_uri": "https://localhost:8080/"
        },
        "id": "a5xmYhNoa-S9",
        "outputId": "a25a71c7-6abf-4b58-e3e8-07bcdaa768d4"
      },
      "execution_count": 17,
      "outputs": [
        {
          "output_type": "stream",
          "name": "stdout",
          "text": [
            "                         author  name\n",
            "0              Abraham Verghese     2\n",
            "1                Adam Gasiewski     1\n",
            "2                 Adam Mansbach     1\n",
            "3                     Adir Levy     1\n",
            "4    Admiral William H. McRaven     1\n",
            "..                          ...   ...\n",
            "243             Walter Isaacson     3\n",
            "244               William Davis     2\n",
            "245            William P. Young     2\n",
            "246            Wizards RPG Team     3\n",
            "247                Zhi Gang Sha     2\n",
            "\n",
            "[248 rows x 2 columns]\n",
            "Розмірність таблиці: (248, 2)\n",
            "Автор з найбільшою кількістю книг: Jeff Kinney\n",
            "Кількість книг цього автора: 12\n"
          ]
        }
      ]
    },
    {
      "cell_type": "code",
      "source": [
        "author_avg_rating = df.groupby('author')['user_rating'].agg('mean').reset_index()\n",
        "\n",
        "print(author_avg_rating)\n",
        "\n",
        "min_avg_rating_author = author_avg_rating[author_avg_rating['user_rating'] == author_avg_rating['user_rating'].min()]\n",
        "min_avg_rating_author_name = min_avg_rating_author.iloc[0]['author']\n",
        "min_avg_rating = min_avg_rating_author.iloc[0]['user_rating']\n",
        "\n",
        "print(f\"Автор з мінімальним середнім рейтингом: {min_avg_rating_author_name}\")\n",
        "print(f\"Середній рейтинг цього автора: {min_avg_rating}\")\n",
        "\n",
        "# У якого автора середній рейтинг мінімальний? Donna Tartt\n",
        "# Який у цього автора середній рейтинг? 3.9"
      ],
      "metadata": {
        "colab": {
          "base_uri": "https://localhost:8080/"
        },
        "id": "iROQ7PE9bGA9",
        "outputId": "63f89cf8-5034-498f-a97b-20318526e4c8"
      },
      "execution_count": 18,
      "outputs": [
        {
          "output_type": "stream",
          "name": "stdout",
          "text": [
            "                         author  user_rating\n",
            "0              Abraham Verghese     4.600000\n",
            "1                Adam Gasiewski     4.400000\n",
            "2                 Adam Mansbach     4.800000\n",
            "3                     Adir Levy     4.800000\n",
            "4    Admiral William H. McRaven     4.700000\n",
            "..                          ...          ...\n",
            "243             Walter Isaacson     4.566667\n",
            "244               William Davis     4.400000\n",
            "245            William P. Young     4.600000\n",
            "246            Wizards RPG Team     4.800000\n",
            "247                Zhi Gang Sha     4.600000\n",
            "\n",
            "[248 rows x 2 columns]\n",
            "Автор з мінімальним середнім рейтингом: Donna Tartt\n",
            "Середній рейтинг цього автора: 3.9\n"
          ]
        }
      ]
    },
    {
      "cell_type": "code",
      "source": [
        "combined_df = pd.concat([author_books_count, author_avg_rating['user_rating']], axis=1)\n",
        "combined_df.columns = ['author', 'books_count', 'avg_rating']\n",
        "\n",
        "sorted_df = combined_df.sort_values(by=['books_count', 'avg_rating'], ascending=[True, True])\n",
        "\n",
        "first_author = sorted_df.iloc[0]['author']\n",
        "print(f\"Перший автор у списку: {first_author}\")\n",
        "\n",
        "# Який автор перший у списку? Muriel Barbery"
      ],
      "metadata": {
        "colab": {
          "base_uri": "https://localhost:8080/"
        },
        "id": "Q0tN0t56bST1",
        "outputId": "df0f10b0-8009-4e36-a5b5-6053a786ec2b"
      },
      "execution_count": 20,
      "outputs": [
        {
          "output_type": "stream",
          "name": "stdout",
          "text": [
            "Перший автор у списку: Muriel Barbery\n"
          ]
        }
      ]
    },
    {
      "cell_type": "code",
      "source": [
        "# Групування за жанром і підрахунок середнього рейтингу для кожного жанру\n",
        "genre_avg_rating = df.groupby('genre')['user_rating'].agg('mean')\n",
        "\n",
        "# Побудова стовпчикової діаграми\n",
        "plt.figure(figsize=(8, 6))\n",
        "genre_avg_rating.plot(kind='bar', color=['skyblue', 'lightgreen'])\n",
        "plt.xlabel('Жанр')\n",
        "plt.ylabel('Середній рейтинг')\n",
        "plt.title('Середній рейтинг книг за жанрами')\n",
        "plt.xticks(rotation=0)\n",
        "plt.show()\n",
        "\n",
        "# Групування за роком і підрахунок середньої ціни книг за кожен рік\n",
        "yearly_avg_price = df.groupby('year')['price'].agg('mean')\n",
        "\n",
        "# Побудова лінійного графіка\n",
        "plt.figure(figsize=(10, 6))\n",
        "yearly_avg_price.plot(kind='line', marker='o', color='purple')\n",
        "plt.xlabel('Рік')\n",
        "plt.ylabel('Середня ціна')\n",
        "plt.title('Зміна середньої ціни книг від року до року')\n",
        "plt.grid(True)\n",
        "plt.show()\n"
      ],
      "metadata": {
        "colab": {
          "base_uri": "https://localhost:8080/",
          "height": 1000
        },
        "id": "7T7fqAWTbefr",
        "outputId": "b09325be-8654-4a0d-a4df-a0cfee7552b8"
      },
      "execution_count": 22,
      "outputs": [
        {
          "output_type": "display_data",
          "data": {
            "text/plain": [
              "<Figure size 800x600 with 1 Axes>"
            ],
            "image/png": "[encoded data removed]"
          },
          "metadata": {}
        },
        {
          "output_type": "display_data",
          "data": {
            "text/plain": [
              "<Figure size 1000x600 with 1 Axes>"
            ],
            "image/png": "[encoded data removed]"
          },
          "metadata": {}
        }
      ]
    }
  ]
}