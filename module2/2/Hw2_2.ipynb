{
  "nbformat": 4,
  "nbformat_minor": 0,
  "metadata": {
    "colab": {
      "provenance": []
    },
    "kernelspec": {
      "name": "python3",
      "display_name": "Python 3"
    },
    "language_info": {
      "name": "python"
    }
  },
  "cells": [
    {
      "cell_type": "code",
      "execution_count": 1,
      "metadata": {
        "id": "9fofw-OjUiKd"
      },
      "outputs": [],
      "source": [
        "import pandas as pd"
      ]
    },
    {
      "cell_type": "code",
      "source": [
        "df = pd.read_csv(\"2017_jun_final - 2017_jun_final.csv\")\n",
        "\n",
        "print(df.head())\n",
        "print(df.shape)\n",
        "print(df.dtypes)"
      ],
      "metadata": {
        "colab": {
          "base_uri": "https://localhost:8080/"
        },
        "id": "BpUMh3e4XD_3",
        "outputId": "84ecd9fd-ddac-47ae-ffd7-53ba16bd39bf"
      },
      "execution_count": 2,
      "outputs": [
        {
          "output_type": "stream",
          "name": "stdout",
          "text": [
            "   N                    Посада Мова програмування Спеціалізація  \\\n",
            "0  1        Junior QA engineer                NaN     Manual QA   \n",
            "1  2        Junior QA engineer                NaN     Manual QA   \n",
            "2  3         Software Engineer            C#/.NET           NaN   \n",
            "3  4         Software Engineer         JavaScript           NaN   \n",
            "4  5  Senior Software Engineer         JavaScript           NaN   \n",
            "\n",
            "  Загальний досвід роботи Досвід роботи на поточному місці  \\\n",
            "0                     0.5                              0.5   \n",
            "1         менше 3 місяців                  менше 3 місяців   \n",
            "2                       4                                1   \n",
            "3                       5                                4   \n",
            "4       10 і більше років                              0.5   \n",
            "\n",
            "   Зарплата на місяць  Зміна зарплати за 12 місяців   Місто   Розмір компанії  \\\n",
            "0                 400                             0  Харків        до 10 осіб   \n",
            "1                 430                           130  Харків  більше 1000 осіб   \n",
            "2                2500                           800    Київ      до 1000 осіб   \n",
            "3                2000                           400   Одеса       до 200 осіб   \n",
            "4                4500                           500    Інше        до 10 осіб   \n",
            "\n",
            "   ... Ще студент                    Рівень англійської  \\\n",
            "0  ...       True    Pre-intermediate (нище середнього)   \n",
            "1  ...       True  Upper-Intermediate (вище середнього)   \n",
            "2  ...      False               Intermediate (середній)   \n",
            "3  ...      False    Pre-intermediate (нище середнього)   \n",
            "4  ...      False               Intermediate (середній)   \n",
            "\n",
            "                   Предметна область      Дата заповнення  \\\n",
            "0                      iOS,eCommerce  12/06/2017 12:38:08   \n",
            "1                       Веб-розробка  12/06/2017 12:42:51   \n",
            "2  Веб-розробка,Корпоративні системи  12/06/2017 13:02:47   \n",
            "3  Desktop Applications,Веб-розробка  12/06/2017 13:03:01   \n",
            "4  Desktop Applications,Веб-розробка  12/06/2017 13:03:47   \n",
            "\n",
            "                                          User.Agent   exp current_job_exp  \\\n",
            "0  Mozilla/5.0 (Windows NT 10.0; Win64; x64) Appl...   0.5             0.5   \n",
            "1  Mozilla/5.0 (iPad; CPU OS 10_2_1 like Mac OS X...   0.0             0.0   \n",
            "2  Mozilla/5.0 (Windows NT 10.0; Win64; x64) Appl...   4.0             1.0   \n",
            "3  Mozilla/5.0 (Windows NT 6.1; Win64; x64) Apple...   5.0             4.0   \n",
            "4  Mozilla/5.0 (iPhone; CPU iPhone OS 10_3_2 like...  10.0             0.5   \n",
            "\n",
            "  salary Валюта  cls  \n",
            "0    400    NaN   QA  \n",
            "1    430    NaN   QA  \n",
            "2   2500    NaN  DEV  \n",
            "3   2000    NaN  DEV  \n",
            "4   4500    NaN  DEV  \n",
            "\n",
            "[5 rows x 25 columns]\n",
            "(8704, 25)\n",
            "N                                     int64\n",
            "Посада                               object\n",
            "Мова програмування                   object\n",
            "Спеціалізація                        object\n",
            "Загальний досвід роботи              object\n",
            "Досвід роботи на поточному місці     object\n",
            "Зарплата на місяць                    int64\n",
            "Зміна зарплати за 12 місяців          int64\n",
            "Місто                                object\n",
            "Розмір компанії                      object\n",
            "Тип компанії                         object\n",
            "Стать                                object\n",
            "Вік                                   int64\n",
            "Освіта                               object\n",
            "Університет                          object\n",
            "Ще студент                             bool\n",
            "Рівень англійської                   object\n",
            "Предметна область                    object\n",
            "Дата заповнення                      object\n",
            "User.Agent                           object\n",
            "exp                                 float64\n",
            "current_job_exp                     float64\n",
            "salary                                int64\n",
            "Валюта                               object\n",
            "cls                                  object\n",
            "dtype: object\n"
          ]
        }
      ]
    },
    {
      "cell_type": "code",
      "source": [
        "missing_values = df.isnull().sum()\n",
        "total_rows = len(df)\n",
        "missing_ratio = (missing_values / total_rows) * 100\n",
        "print(\"Частка пропусків в кожній колонці:\")\n",
        "print(missing_ratio)"
      ],
      "metadata": {
        "colab": {
          "base_uri": "https://localhost:8080/"
        },
        "id": "TILxeUV6XRGA",
        "outputId": "e96c323b-0754-429f-951e-938232fa0c8e"
      },
      "execution_count": 3,
      "outputs": [
        {
          "output_type": "stream",
          "name": "stdout",
          "text": [
            "Частка пропусків в кожній колонці:\n",
            "N                                    0.000000\n",
            "Посада                               0.000000\n",
            "Мова програмування                  44.232537\n",
            "Спеціалізація                       82.938879\n",
            "Загальний досвід роботи              0.000000\n",
            "Досвід роботи на поточному місці     0.000000\n",
            "Зарплата на місяць                   0.000000\n",
            "Зміна зарплати за 12 місяців         0.000000\n",
            "Місто                                0.000000\n",
            "Розмір компанії                      0.000000\n",
            "Тип компанії                         0.000000\n",
            "Стать                                0.000000\n",
            "Вік                                  0.000000\n",
            "Освіта                               0.000000\n",
            "Університет                          4.113051\n",
            "Ще студент                           0.000000\n",
            "Рівень англійської                   0.000000\n",
            "Предметна область                    2.562040\n",
            "Дата заповнення                      0.000000\n",
            "User.Agent                           0.000000\n",
            "exp                                  0.000000\n",
            "current_job_exp                      0.000000\n",
            "salary                               0.000000\n",
            "Валюта                              99.885110\n",
            "cls                                 18.083640\n",
            "dtype: float64\n"
          ]
        }
      ]
    },
    {
      "cell_type": "code",
      "source": [
        "df_cleaned = df.dropna(subset=df.columns.difference(['Мова програмування']))"
      ],
      "metadata": {
        "id": "enNv4tKRXjzI"
      },
      "execution_count": 4,
      "outputs": []
    },
    {
      "cell_type": "code",
      "source": [
        "missing_values_cleaned = df_cleaned.isnull().sum()\n",
        "total_rows_cleaned = len(df_cleaned)\n",
        "missing_ratio_cleaned = (missing_values_cleaned / total_rows_cleaned) * 100\n",
        "\n",
        "print(\"Частка пропусків в кожній колонці після видалення пропусків, крім 'Мова програмування':\")\n",
        "print(missing_ratio_cleaned)"
      ],
      "metadata": {
        "colab": {
          "base_uri": "https://localhost:8080/"
        },
        "id": "fwraFgmgXnxC",
        "outputId": "0979694c-e36e-438a-b1f4-03f47c1cf088"
      },
      "execution_count": 5,
      "outputs": [
        {
          "output_type": "stream",
          "name": "stdout",
          "text": [
            "Частка пропусків в кожній колонці після видалення пропусків, крім 'Мова програмування':\n",
            "N                                     0.0\n",
            "Посада                                0.0\n",
            "Мова програмування                  100.0\n",
            "Спеціалізація                         0.0\n",
            "Загальний досвід роботи               0.0\n",
            "Досвід роботи на поточному місці      0.0\n",
            "Зарплата на місяць                    0.0\n",
            "Зміна зарплати за 12 місяців          0.0\n",
            "Місто                                 0.0\n",
            "Розмір компанії                       0.0\n",
            "Тип компанії                          0.0\n",
            "Стать                                 0.0\n",
            "Вік                                   0.0\n",
            "Освіта                                0.0\n",
            "Університет                           0.0\n",
            "Ще студент                            0.0\n",
            "Рівень англійської                    0.0\n",
            "Предметна область                     0.0\n",
            "Дата заповнення                       0.0\n",
            "User.Agent                            0.0\n",
            "exp                                   0.0\n",
            "current_job_exp                       0.0\n",
            "salary                                0.0\n",
            "Валюта                                0.0\n",
            "cls                                   0.0\n",
            "dtype: float64\n"
          ]
        }
      ]
    },
    {
      "cell_type": "code",
      "source": [
        "python_data = df.loc[df['Мова програмування'] == 'Python']\n",
        "\n",
        "def fill_avg_salary(dataframe, position_col='Посада', salary_col='salary'):\n",
        "    aggregated_data = dataframe.groupby(position_col)[salary_col].agg(['min', 'max', 'mean']).reset_index()\n",
        "    return aggregated_data\n",
        "\n",
        "aggregated_data = fill_avg_salary(python_data, position_col='Посада', salary_col='salary')\n",
        "\n",
        "new_df = pd.DataFrame({\n",
        "    'Посада': aggregated_data['Посада'],\n",
        "    'Мін. зп': aggregated_data['min'],\n",
        "    'Макс. зп': aggregated_data['max'],\n",
        "    'avg': aggregated_data['mean']\n",
        "})\n",
        "\n",
        "describe_stats = new_df['avg'].describe()\n",
        "new_df.loc['LOL don`t understand last task'] = describe_stats\n",
        "print(new_df)"
      ],
      "metadata": {
        "colab": {
          "base_uri": "https://localhost:8080/"
        },
        "id": "maY1y7-CXp8y",
        "outputId": "2aae3d10-4306-435b-e754-b44e6ee8e3fd"
      },
      "execution_count": 7,
      "outputs": [
        {
          "output_type": "stream",
          "name": "stdout",
          "text": [
            "                                                  Посада  Мін. зп  Макс. зп  \\\n",
            "0                               Junior Software Engineer    100.0    1250.0   \n",
            "1                               Senior Software Engineer   1300.0    9200.0   \n",
            "2                                      Software Engineer    500.0    5400.0   \n",
            "3                                       System Architect   3000.0    5000.0   \n",
            "4                                         Technical Lead   1425.0    6200.0   \n",
            "LOL don`t understand last task                       NaN      NaN       NaN   \n",
            "\n",
            "                                        avg  \n",
            "0                                560.841270  \n",
            "1                               3387.096774  \n",
            "2                               1799.070000  \n",
            "3                               4000.000000  \n",
            "4                               3165.909091  \n",
            "LOL don`t understand last task          NaN  \n"
          ]
        }
      ]
    },
    {
      "cell_type": "code",
      "source": [
        "new_df.to_csv('aggregated_salary_stats.csv', index=False)"
      ],
      "metadata": {
        "id": "LDd-JItgYZlu"
      },
      "execution_count": 8,
      "outputs": []
    }
  ]
}