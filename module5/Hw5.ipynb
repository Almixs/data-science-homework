{
  "cells": [
    {
      "cell_type": "code",
      "execution_count": null,
      "metadata": {
        "colab": {
          "base_uri": "https://localhost:8080/"
        },
        "id": "WZkYNNvK3nYt",
        "outputId": "3c39de22-1ee1-43a7-e6fa-f61652b5306f"
      },
      "outputs": [
        {
          "output_type": "stream",
          "name": "stdout",
          "text": [
            "Drive already mounted at /content/drive; to attempt to forcibly remount, call drive.mount(\"/content/drive\", force_remount=True).\n"
          ]
        }
      ],
      "source": [
        "from google.colab import drive\n",
        "drive.mount('/content/drive')"
      ]
    },
    {
      "cell_type": "code",
      "execution_count": null,
      "metadata": {
        "id": "4DuF4PK33ps-"
      },
      "outputs": [],
      "source": [
        "import os\n",
        "import pandas as pd\n",
        "from sklearn.model_selection import train_test_split\n",
        "from sklearn.svm import SVC\n",
        "from sklearn.ensemble import RandomForestClassifier\n",
        "from sklearn.metrics import classification_report\n",
        "from sklearn.preprocessing import StandardScaler\n",
        "from sklearn.pipeline import Pipeline\n",
        "from sklearn.compose import ColumnTransformer\n",
        "from sklearn.impute import SimpleImputer"
      ]
    },
    {
      "cell_type": "code",
      "execution_count": null,
      "metadata": {
        "colab": {
          "base_uri": "https://localhost:8080/"
        },
        "id": "v-SYecL-6MJx",
        "outputId": "3642fb85-45c5-4031-9963-31e781d9fc2c"
      },
      "outputs": [
        {
          "output_type": "stream",
          "name": "stdout",
          "text": [
            "Папка: running\n",
            "Папка: walking\n",
            "Папка: idle\n",
            "Папка: stairs\n"
          ]
        }
      ],
      "source": [
        "root_path = '/content/drive/My Drive/data'\n",
        "for item in os.listdir(root_path):\n",
        "    item_path = os.path.join(root_path, item)\n",
        "    if os.path.isdir(item_path):\n",
        "        print(f'Папка: {item}')\n",
        "    else:\n",
        "        print(f'Файл: {item}')"
      ]
    },
    {
      "cell_type": "code",
      "source": [
        "activity_mapping = {\n",
        "    'running': 'running',\n",
        "    'walking': 'walking',\n",
        "    'idle': 'idle',\n",
        "    'stairs': 'stairs'\n",
        "}"
      ],
      "metadata": {
        "id": "9UeNIS8us62R"
      },
      "execution_count": null,
      "outputs": []
    },
    {
      "cell_type": "code",
      "source": [
        "def calculate_time_features(df):\n",
        "    time_features = df.groupby('activities').agg(['mean', 'std', 'min', 'max'])\n",
        "    time_features.columns = ['_'.join(col).strip() for col in time_features.columns.values]\n",
        "    return time_features"
      ],
      "metadata": {
        "id": "H8cmWNn_ssL1"
      },
      "execution_count": null,
      "outputs": []
    },
    {
      "cell_type": "code",
      "execution_count": null,
      "metadata": {
        "colab": {
          "base_uri": "https://localhost:8080/"
        },
        "id": "0wdyu7aJ6fvw",
        "outputId": "32323351-e190-4878-85aa-c464f77c2c49"
      },
      "outputs": [
        {
          "output_type": "stream",
          "name": "stdout",
          "text": [
            "   accelerometer_X  accelerometer_Y  accelerometer_Z activities\n",
            "0       -22.998701        31.598675       -26.297910    running\n",
            "1        -5.942408         2.935291       -11.113884    running\n",
            "2         7.886501        14.863204        -8.508993    running\n",
            "3       -11.836933         1.216255        -8.456321    running\n",
            "4       -19.306843       -13.919888         3.581726    running\n"
          ]
        }
      ],
      "source": [
        "df_list = []\n",
        "for folder_name in os.listdir(root_path):\n",
        "    folder_path = os.path.join(root_path, folder_name)\n",
        "    if os.path.isdir(folder_path):\n",
        "        folder_df_list = []\n",
        "        activity = activity_mapping[folder_name]\n",
        "        for file_name in os.listdir(folder_path):\n",
        "            if file_name.endswith('.csv'):\n",
        "                file_path = os.path.join(folder_path, file_name)\n",
        "                df = pd.read_csv(file_path)\n",
        "                df = df.assign(activities=activity)\n",
        "                folder_df_list.append(df)\n",
        "        if folder_df_list:\n",
        "            combined_folder_df = pd.concat(folder_df_list)\n",
        "            df_list.append(combined_folder_df)\n",
        "\n",
        "combined_df = pd.concat(df_list)\n",
        "print(combined_df.head())"
      ]
    },
    {
      "cell_type": "code",
      "execution_count": 97,
      "metadata": {
        "id": "vRA_sMW26kN_"
      },
      "outputs": [],
      "source": [
        "combined_df['accelerometer_magnitude'] = (combined_df['accelerometer_X']**2 +\n",
        "                                          combined_df['accelerometer_Y']**2 +\n",
        "                                          combined_df['accelerometer_Z']**2)**0.5\n",
        "combined_df['accelerometer_speed'] = combined_df['accelerometer_magnitude'].diff().fillna(0)\n",
        "combined_df['accelerometer_jerk'] = combined_df['accelerometer_speed'].diff().fillna(0)"
      ]
    },
    {
      "cell_type": "code",
      "source": [
        "X = combined_df[['accelerometer_X', 'accelerometer_Y', 'accelerometer_Z',\n",
        "                 'accelerometer_magnitude', 'accelerometer_speed', 'accelerometer_jerk']]\n",
        "y = combined_df['activities']"
      ],
      "metadata": {
        "id": "PlSocLvOeoY3"
      },
      "execution_count": 98,
      "outputs": []
    },
    {
      "cell_type": "code",
      "source": [
        "X_train, X_test, y_train, y_test = train_test_split(X, y, test_size=0.2, random_state=42)"
      ],
      "metadata": {
        "id": "hBXMdHcWt8p6"
      },
      "execution_count": 99,
      "outputs": []
    },
    {
      "cell_type": "code",
      "source": [
        "numeric_features = X.columns.tolist()\n",
        "numeric_transformer = Pipeline(steps=[\n",
        "    ('imputer', SimpleImputer(strategy='mean')),\n",
        "    ('scaler', StandardScaler())])\n",
        "\n",
        "preprocessor = ColumnTransformer(transformers=[\n",
        "    ('num', numeric_transformer, numeric_features)])"
      ],
      "metadata": {
        "id": "ybG_9n_soXL7"
      },
      "execution_count": 100,
      "outputs": []
    },
    {
      "cell_type": "code",
      "source": [
        "svm_model = SVC()\n",
        "rf_model = RandomForestClassifier()"
      ],
      "metadata": {
        "id": "cbub3IW4lfpd"
      },
      "execution_count": 101,
      "outputs": []
    },
    {
      "cell_type": "code",
      "source": [
        "svm_pipe = Pipeline(steps=[('preprocessor', preprocessor),\n",
        "                           ('classifier', svm_model)])\n",
        "\n",
        "rf_pipe = Pipeline(steps=[('preprocessor', preprocessor),\n",
        "                          ('classifier', rf_model)])"
      ],
      "metadata": {
        "id": "JeHd8DuYldT-"
      },
      "execution_count": 102,
      "outputs": []
    },
    {
      "cell_type": "code",
      "source": [
        "svm_pipe.fit(X_train, y_train)\n",
        "rf_pipe.fit(X_train, y_train)"
      ],
      "metadata": {
        "colab": {
          "base_uri": "https://localhost:8080/",
          "height": 229
        },
        "id": "qNUjeQvQn8n-",
        "outputId": "4b83837d-c9af-4b29-f09b-fab5b8bfb02f"
      },
      "execution_count": 103,
      "outputs": [
        {
          "output_type": "execute_result",
          "data": {
            "text/plain": [
              "Pipeline(steps=[('preprocessor',\n",
              "                 ColumnTransformer(transformers=[('num',\n",
              "                                                  Pipeline(steps=[('imputer',\n",
              "                                                                   SimpleImputer()),\n",
              "                                                                  ('scaler',\n",
              "                                                                   StandardScaler())]),\n",
              "                                                  ['accelerometer_X',\n",
              "                                                   'accelerometer_Y',\n",
              "                                                   'accelerometer_Z',\n",
              "                                                   'accelerometer_magnitude',\n",
              "                                                   'accelerometer_speed',\n",
              "                                                   'accelerometer_jerk'])])),\n",
              "                ('classifier', RandomForestClassifier())])"
            ],
            "text/html": [
              "<style>#sk-container-id-2 {color: black;background-color: white;}#sk-container-id-2 pre{padding: 0;}#sk-container-id-2 div.sk-toggleable {background-color: white;}#sk-container-id-2 label.sk-toggleable__label {cursor: pointer;display: block;width: 100%;margin-bottom: 0;padding: 0.3em;box-sizing: border-box;text-align: center;}#sk-container-id-2 label.sk-toggleable__label-arrow:before {content: \"▸\";float: left;margin-right: 0.25em;color: #696969;}#sk-container-id-2 label.sk-toggleable__label-arrow:hover:before {color: black;}#sk-container-id-2 div.sk-estimator:hover label.sk-toggleable__label-arrow:before {color: black;}#sk-container-id-2 div.sk-toggleable__content {max-height: 0;max-width: 0;overflow: hidden;text-align: left;background-color: #f0f8ff;}#sk-container-id-2 div.sk-toggleable__content pre {margin: 0.2em;color: black;border-radius: 0.25em;background-color: #f0f8ff;}#sk-container-id-2 input.sk-toggleable__control:checked~div.sk-toggleable__content {max-height: 200px;max-width: 100%;overflow: auto;}#sk-container-id-2 input.sk-toggleable__control:checked~label.sk-toggleable__label-arrow:before {content: \"▾\";}#sk-container-id-2 div.sk-estimator input.sk-toggleable__control:checked~label.sk-toggleable__label {background-color: #d4ebff;}#sk-container-id-2 div.sk-label input.sk-toggleable__control:checked~label.sk-toggleable__label {background-color: #d4ebff;}#sk-container-id-2 input.sk-hidden--visually {border: 0;clip: rect(1px 1px 1px 1px);clip: rect(1px, 1px, 1px, 1px);height: 1px;margin: -1px;overflow: hidden;padding: 0;position: absolute;width: 1px;}#sk-container-id-2 div.sk-estimator {font-family: monospace;background-color: #f0f8ff;border: 1px dotted black;border-radius: 0.25em;box-sizing: border-box;margin-bottom: 0.5em;}#sk-container-id-2 div.sk-estimator:hover {background-color: #d4ebff;}#sk-container-id-2 div.sk-parallel-item::after {content: \"\";width: 100%;border-bottom: 1px solid gray;flex-grow: 1;}#sk-container-id-2 div.sk-label:hover label.sk-toggleable__label {background-color: #d4ebff;}#sk-container-id-2 div.sk-serial::before {content: \"\";position: absolute;border-left: 1px solid gray;box-sizing: border-box;top: 0;bottom: 0;left: 50%;z-index: 0;}#sk-container-id-2 div.sk-serial {display: flex;flex-direction: column;align-items: center;background-color: white;padding-right: 0.2em;padding-left: 0.2em;position: relative;}#sk-container-id-2 div.sk-item {position: relative;z-index: 1;}#sk-container-id-2 div.sk-parallel {display: flex;align-items: stretch;justify-content: center;background-color: white;position: relative;}#sk-container-id-2 div.sk-item::before, #sk-container-id-2 div.sk-parallel-item::before {content: \"\";position: absolute;border-left: 1px solid gray;box-sizing: border-box;top: 0;bottom: 0;left: 50%;z-index: -1;}#sk-container-id-2 div.sk-parallel-item {display: flex;flex-direction: column;z-index: 1;position: relative;background-color: white;}#sk-container-id-2 div.sk-parallel-item:first-child::after {align-self: flex-end;width: 50%;}#sk-container-id-2 div.sk-parallel-item:last-child::after {align-self: flex-start;width: 50%;}#sk-container-id-2 div.sk-parallel-item:only-child::after {width: 0;}#sk-container-id-2 div.sk-dashed-wrapped {border: 1px dashed gray;margin: 0 0.4em 0.5em 0.4em;box-sizing: border-box;padding-bottom: 0.4em;background-color: white;}#sk-container-id-2 div.sk-label label {font-family: monospace;font-weight: bold;display: inline-block;line-height: 1.2em;}#sk-container-id-2 div.sk-label-container {text-align: center;}#sk-container-id-2 div.sk-container {/* jupyter's `normalize.less` sets `[hidden] { display: none; }` but bootstrap.min.css set `[hidden] { display: none !important; }` so we also need the `!important` here to be able to override the default hidden behavior on the sphinx rendered scikit-learn.org. See: https://github.com/scikit-learn/scikit-learn/issues/21755 */display: inline-block !important;position: relative;}#sk-container-id-2 div.sk-text-repr-fallback {display: none;}</style><div id=\"sk-container-id-2\" class=\"sk-top-container\"><div class=\"sk-text-repr-fallback\"><pre>Pipeline(steps=[(&#x27;preprocessor&#x27;,\n",
              "                 ColumnTransformer(transformers=[(&#x27;num&#x27;,\n",
              "                                                  Pipeline(steps=[(&#x27;imputer&#x27;,\n",
              "                                                                   SimpleImputer()),\n",
              "                                                                  (&#x27;scaler&#x27;,\n",
              "                                                                   StandardScaler())]),\n",
              "                                                  [&#x27;accelerometer_X&#x27;,\n",
              "                                                   &#x27;accelerometer_Y&#x27;,\n",
              "                                                   &#x27;accelerometer_Z&#x27;,\n",
              "                                                   &#x27;accelerometer_magnitude&#x27;,\n",
              "                                                   &#x27;accelerometer_speed&#x27;,\n",
              "                                                   &#x27;accelerometer_jerk&#x27;])])),\n",
              "                (&#x27;classifier&#x27;, RandomForestClassifier())])</pre><b>In a Jupyter environment, please rerun this cell to show the HTML representation or trust the notebook. <br />On GitHub, the HTML representation is unable to render, please try loading this page with nbviewer.org.</b></div><div class=\"sk-container\" hidden><div class=\"sk-item sk-dashed-wrapped\"><div class=\"sk-label-container\"><div class=\"sk-label sk-toggleable\"><input class=\"sk-toggleable__control sk-hidden--visually\" id=\"sk-estimator-id-2\" type=\"checkbox\" ><label for=\"sk-estimator-id-2\" class=\"sk-toggleable__label sk-toggleable__label-arrow\">Pipeline</label><div class=\"sk-toggleable__content\"><pre>Pipeline(steps=[(&#x27;preprocessor&#x27;,\n",
              "                 ColumnTransformer(transformers=[(&#x27;num&#x27;,\n",
              "                                                  Pipeline(steps=[(&#x27;imputer&#x27;,\n",
              "                                                                   SimpleImputer()),\n",
              "                                                                  (&#x27;scaler&#x27;,\n",
              "                                                                   StandardScaler())]),\n",
              "                                                  [&#x27;accelerometer_X&#x27;,\n",
              "                                                   &#x27;accelerometer_Y&#x27;,\n",
              "                                                   &#x27;accelerometer_Z&#x27;,\n",
              "                                                   &#x27;accelerometer_magnitude&#x27;,\n",
              "                                                   &#x27;accelerometer_speed&#x27;,\n",
              "                                                   &#x27;accelerometer_jerk&#x27;])])),\n",
              "                (&#x27;classifier&#x27;, RandomForestClassifier())])</pre></div></div></div><div class=\"sk-serial\"><div class=\"sk-item sk-dashed-wrapped\"><div class=\"sk-label-container\"><div class=\"sk-label sk-toggleable\"><input class=\"sk-toggleable__control sk-hidden--visually\" id=\"sk-estimator-id-3\" type=\"checkbox\" ><label for=\"sk-estimator-id-3\" class=\"sk-toggleable__label sk-toggleable__label-arrow\">preprocessor: ColumnTransformer</label><div class=\"sk-toggleable__content\"><pre>ColumnTransformer(transformers=[(&#x27;num&#x27;,\n",
              "                                 Pipeline(steps=[(&#x27;imputer&#x27;, SimpleImputer()),\n",
              "                                                 (&#x27;scaler&#x27;, StandardScaler())]),\n",
              "                                 [&#x27;accelerometer_X&#x27;, &#x27;accelerometer_Y&#x27;,\n",
              "                                  &#x27;accelerometer_Z&#x27;, &#x27;accelerometer_magnitude&#x27;,\n",
              "                                  &#x27;accelerometer_speed&#x27;,\n",
              "                                  &#x27;accelerometer_jerk&#x27;])])</pre></div></div></div><div class=\"sk-parallel\"><div class=\"sk-parallel-item\"><div class=\"sk-item\"><div class=\"sk-label-container\"><div class=\"sk-label sk-toggleable\"><input class=\"sk-toggleable__control sk-hidden--visually\" id=\"sk-estimator-id-4\" type=\"checkbox\" ><label for=\"sk-estimator-id-4\" class=\"sk-toggleable__label sk-toggleable__label-arrow\">num</label><div class=\"sk-toggleable__content\"><pre>[&#x27;accelerometer_X&#x27;, &#x27;accelerometer_Y&#x27;, &#x27;accelerometer_Z&#x27;, &#x27;accelerometer_magnitude&#x27;, &#x27;accelerometer_speed&#x27;, &#x27;accelerometer_jerk&#x27;]</pre></div></div></div><div class=\"sk-serial\"><div class=\"sk-item\"><div class=\"sk-serial\"><div class=\"sk-item\"><div class=\"sk-estimator sk-toggleable\"><input class=\"sk-toggleable__control sk-hidden--visually\" id=\"sk-estimator-id-5\" type=\"checkbox\" ><label for=\"sk-estimator-id-5\" class=\"sk-toggleable__label sk-toggleable__label-arrow\">SimpleImputer</label><div class=\"sk-toggleable__content\"><pre>SimpleImputer()</pre></div></div></div><div class=\"sk-item\"><div class=\"sk-estimator sk-toggleable\"><input class=\"sk-toggleable__control sk-hidden--visually\" id=\"sk-estimator-id-6\" type=\"checkbox\" ><label for=\"sk-estimator-id-6\" class=\"sk-toggleable__label sk-toggleable__label-arrow\">StandardScaler</label><div class=\"sk-toggleable__content\"><pre>StandardScaler()</pre></div></div></div></div></div></div></div></div></div></div><div class=\"sk-item\"><div class=\"sk-estimator sk-toggleable\"><input class=\"sk-toggleable__control sk-hidden--visually\" id=\"sk-estimator-id-7\" type=\"checkbox\" ><label for=\"sk-estimator-id-7\" class=\"sk-toggleable__label sk-toggleable__label-arrow\">RandomForestClassifier</label><div class=\"sk-toggleable__content\"><pre>RandomForestClassifier()</pre></div></div></div></div></div></div></div>"
            ]
          },
          "metadata": {},
          "execution_count": 103
        }
      ]
    },
    {
      "cell_type": "code",
      "source": [
        "svm_preds = svm_pipe.predict(X_test)\n",
        "rf_preds = rf_pipe.predict(X_test)"
      ],
      "metadata": {
        "id": "7rf81-EvuFiA"
      },
      "execution_count": 104,
      "outputs": []
    },
    {
      "cell_type": "code",
      "execution_count": 106,
      "metadata": {
        "colab": {
          "base_uri": "https://localhost:8080/"
        },
        "id": "aSHbLnr3-mG3",
        "outputId": "80654cd4-9ac7-4b2f-dea5-f3f815772ba6"
      },
      "outputs": [
        {
          "output_type": "stream",
          "name": "stdout",
          "text": [
            "Classification Report for SVM:\n",
            "              precision    recall  f1-score   support\n",
            "\n",
            "        idle       0.98      0.99      0.98      6221\n",
            "     running       0.95      0.93      0.94     20510\n",
            "      stairs       1.00      0.01      0.01       915\n",
            "     walking       0.84      0.93      0.88     11126\n",
            "\n",
            "    accuracy                           0.92     38772\n",
            "   macro avg       0.94      0.72      0.71     38772\n",
            "weighted avg       0.93      0.92      0.91     38772\n",
            "\n",
            "Classification Report for Random Forest:\n",
            "              precision    recall  f1-score   support\n",
            "\n",
            "        idle       1.00      1.00      1.00      6221\n",
            "     running       1.00      1.00      1.00     20510\n",
            "      stairs       1.00      0.97      0.99       915\n",
            "     walking       0.99      1.00      1.00     11126\n",
            "\n",
            "    accuracy                           1.00     38772\n",
            "   macro avg       1.00      0.99      0.99     38772\n",
            "weighted avg       1.00      1.00      1.00     38772\n",
            "\n"
          ]
        }
      ],
      "source": [
        "svm_report = classification_report(y_test, svm_preds)\n",
        "rf_report = classification_report(y_test, rf_preds)\n",
        "\n",
        "print(\"Classification Report for SVM:\")\n",
        "print(svm_report)\n",
        "\n",
        "print(\"Classification Report for Random Forest:\")\n",
        "print(rf_report)"
      ]
    }
  ],
  "metadata": {
    "colab": {
      "provenance": []
    },
    "kernelspec": {
      "display_name": "Python 3",
      "name": "python3"
    },
    "language_info": {
      "name": "python"
    }
  },
  "nbformat": 4,
  "nbformat_minor": 0
}