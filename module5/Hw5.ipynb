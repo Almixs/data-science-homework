{
  "cells": [
    {
      "cell_type": "code",
      "execution_count": 58,
      "metadata": {
        "colab": {
          "base_uri": "https://localhost:8080/"
        },
        "id": "WZkYNNvK3nYt",
        "outputId": "3c39de22-1ee1-43a7-e6fa-f61652b5306f"
      },
      "outputs": [
        {
          "output_type": "stream",
          "name": "stdout",
          "text": [
            "Drive already mounted at /content/drive; to attempt to forcibly remount, call drive.mount(\"/content/drive\", force_remount=True).\n"
          ]
        }
      ],
      "source": [
        "from google.colab import drive\n",
        "drive.mount('/content/drive')"
      ]
    },
    {
      "cell_type": "code",
      "execution_count": 59,
      "metadata": {
        "id": "4DuF4PK33ps-"
      },
      "outputs": [],
      "source": [
        "import pandas as pd\n",
        "import os\n",
        "import numpy as np\n",
        "from sklearn.preprocessing import StandardScaler\n",
        "from sklearn.svm import SVC\n",
        "from sklearn.metrics import accuracy_score\n",
        "from sklearn.model_selection import train_test_split\n",
        "import random"
      ]
    },
    {
      "cell_type": "code",
      "execution_count": 60,
      "metadata": {
        "colab": {
          "base_uri": "https://localhost:8080/"
        },
        "id": "v-SYecL-6MJx",
        "outputId": "3642fb85-45c5-4031-9963-31e781d9fc2c"
      },
      "outputs": [
        {
          "output_type": "stream",
          "name": "stdout",
          "text": [
            "Папка: running\n",
            "Папка: walking\n",
            "Папка: idle\n",
            "Папка: stairs\n"
          ]
        }
      ],
      "source": [
        "root_path = '/content/drive/My Drive/data'\n",
        "for item in os.listdir(root_path):\n",
        "    item_path = os.path.join(root_path, item)\n",
        "    if os.path.isdir(item_path):\n",
        "        print(f'Папка: {item}')\n",
        "    else:\n",
        "        print(f'Файл: {item}')"
      ]
    },
    {
      "cell_type": "code",
      "execution_count": 64,
      "metadata": {
        "colab": {
          "base_uri": "https://localhost:8080/"
        },
        "id": "0wdyu7aJ6fvw",
        "outputId": "32323351-e190-4878-85aa-c464f77c2c49"
      },
      "outputs": [
        {
          "output_type": "stream",
          "name": "stdout",
          "text": [
            "   accelerometer_X  accelerometer_Y  accelerometer_Z activities\n",
            "0       -22.998701        31.598675       -26.297910    running\n",
            "1        -5.942408         2.935291       -11.113884    running\n",
            "2         7.886501        14.863204        -8.508993    running\n",
            "3       -11.836933         1.216255        -8.456321    running\n",
            "4       -19.306843       -13.919888         3.581726    running\n"
          ]
        }
      ],
      "source": [
        "activity_mapping = {\n",
        "    'running': 'running',\n",
        "    'walking': 'walking',\n",
        "    'idle': 'idle',\n",
        "    'stairs': 'stairs'\n",
        "}\n",
        "\n",
        "df_list = []\n",
        "for folder_name in os.listdir(root_path):\n",
        "    folder_path = os.path.join(root_path, folder_name)\n",
        "    if os.path.isdir(folder_path):\n",
        "        folder_df_list = []\n",
        "        activity = activity_mapping[folder_name]\n",
        "        for file_name in os.listdir(folder_path):\n",
        "            if file_name.endswith('.csv'):\n",
        "                file_path = os.path.join(folder_path, file_name)\n",
        "                df = pd.read_csv(file_path)\n",
        "                df = df.assign(activities=activity)\n",
        "                folder_df_list.append(df)\n",
        "        if folder_df_list:\n",
        "            combined_folder_df = pd.concat(folder_df_list)\n",
        "            df_list.append(combined_folder_df)\n",
        "\n",
        "combined_df = pd.concat(df_list)\n",
        "print(combined_df.head())"
      ]
    },
    {
      "cell_type": "code",
      "execution_count": 66,
      "metadata": {
        "id": "vRA_sMW26kN_"
      },
      "outputs": [],
      "source": [
        "X = combined_df[['accelerometer_X', 'accelerometer_Y', 'accelerometer_Z']]\n",
        "y = combined_df['activities']"
      ]
    },
    {
      "cell_type": "code",
      "execution_count": 67,
      "metadata": {
        "id": "qKpLXvqU-lvb"
      },
      "outputs": [],
      "source": [
        "scaler = StandardScaler()\n",
        "X_scaled = scaler.fit_transform(X)"
      ]
    },
    {
      "cell_type": "code",
      "source": [
        "X_train, X_test, y_train, y_test = train_test_split(X_scaled, y, test_size=0.2, random_state=42)"
      ],
      "metadata": {
        "id": "PlSocLvOeoY3"
      },
      "execution_count": 68,
      "outputs": []
    },
    {
      "cell_type": "code",
      "execution_count": 69,
      "metadata": {
        "colab": {
          "base_uri": "https://localhost:8080/"
        },
        "id": "aSHbLnr3-mG3",
        "outputId": "9bb58bd2-0744-4a2a-ef98-64c9a1850b2c"
      },
      "outputs": [
        {
          "output_type": "stream",
          "name": "stdout",
          "text": [
            "Classification Report for SVM:\n",
            "              precision    recall  f1-score   support\n",
            "\n",
            "        idle       0.96      0.98      0.97      6221\n",
            "     running       0.93      0.90      0.92     20510\n",
            "      stairs       1.00      0.00      0.01       915\n",
            "     walking       0.80      0.90      0.85     11126\n",
            "\n",
            "    accuracy                           0.89     38772\n",
            "   macro avg       0.92      0.70      0.69     38772\n",
            "weighted avg       0.90      0.89      0.88     38772\n",
            "\n",
            "Classification Report for Random Forest:\n",
            "              precision    recall  f1-score   support\n",
            "\n",
            "        idle       1.00      1.00      1.00      6221\n",
            "     running       1.00      1.00      1.00     20510\n",
            "      stairs       1.00      1.00      1.00       915\n",
            "     walking       1.00      1.00      1.00     11126\n",
            "\n",
            "    accuracy                           1.00     38772\n",
            "   macro avg       1.00      1.00      1.00     38772\n",
            "weighted avg       1.00      1.00      1.00     38772\n",
            "\n"
          ]
        }
      ],
      "source": [
        "svm_model = SVC()\n",
        "rf_model = RandomForestClassifier()\n",
        "\n",
        "svm_model.fit(X_train, y_train)\n",
        "rf_model.fit(X_train, y_train)\n",
        "\n",
        "svm_preds = svm_model.predict(X_test)\n",
        "rf_preds = rf_model.predict(X_test)\n",
        "\n",
        "print(\"Classification Report for SVM:\")\n",
        "print(classification_report(y_test, svm_preds))\n",
        "\n",
        "print(\"Classification Report for Random Forest:\")\n",
        "print(classification_report(y_test, rf_preds))"
      ]
    },
    {
      "cell_type": "code",
      "source": [
        "svm_report = classification_report(y_test, svm_preds, output_dict=True)\n",
        "rf_report = classification_report(y_test, rf_preds, output_dict=True)"
      ],
      "metadata": {
        "id": "qJBsPm3zjFTE"
      },
      "execution_count": 71,
      "outputs": []
    },
    {
      "cell_type": "code",
      "source": [
        "svm_precision = svm_report['macro avg']['precision']\n",
        "rf_precision = rf_report['macro avg']['precision']\n",
        "\n",
        "svm_recall = svm_report['macro avg']['recall']\n",
        "rf_recall = rf_report['macro avg']['recall']\n",
        "\n",
        "svm_f1 = svm_report['macro avg']['f1-score']\n",
        "rf_f1 = rf_report['macro avg']['f1-score']\n",
        "\n",
        "print(\"SVM Precision:\", svm_precision)\n",
        "print(\"Random Forest Precision:\", rf_precision)\n",
        "\n",
        "print(\"SVM Recall:\", svm_recall)\n",
        "print(\"Random Forest Recall:\", rf_recall)\n",
        "\n",
        "print(\"SVM F1-score:\", svm_f1)\n",
        "print(\"Random Forest F1-score:\", rf_f1)"
      ],
      "metadata": {
        "colab": {
          "base_uri": "https://localhost:8080/"
        },
        "id": "3OhExlxTj7Ud",
        "outputId": "0bea6146-7d3f-41a9-ef90-11320966a470"
      },
      "execution_count": 72,
      "outputs": [
        {
          "output_type": "stream",
          "name": "stdout",
          "text": [
            "SVM Precision: 0.922553988520022\n",
            "Random Forest Precision: 0.9999232560310127\n",
            "SVM Recall: 0.6973385707592235\n",
            "Random Forest Recall: 0.9994188928462097\n",
            "SVM F1-score: 0.685356853905337\n",
            "Random Forest F1-score: 0.9996707727927276\n"
          ]
        }
      ]
    }
  ],
  "metadata": {
    "colab": {
      "provenance": []
    },
    "kernelspec": {
      "display_name": "Python 3",
      "name": "python3"
    },
    "language_info": {
      "name": "python"
    }
  },
  "nbformat": 4,
  "nbformat_minor": 0
}