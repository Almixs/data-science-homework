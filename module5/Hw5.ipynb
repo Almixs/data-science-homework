{
  "cells": [
    {
      "cell_type": "code",
      "execution_count": 9,
      "metadata": {
        "colab": {
          "base_uri": "https://localhost:8080/"
        },
        "id": "WZkYNNvK3nYt",
        "outputId": "119ac15a-42e0-4263-9b3a-2d71908736cd"
      },
      "outputs": [
        {
          "output_type": "stream",
          "name": "stdout",
          "text": [
            "Drive already mounted at /content/drive; to attempt to forcibly remount, call drive.mount(\"/content/drive\", force_remount=True).\n"
          ]
        }
      ],
      "source": [
        "from google.colab import drive\n",
        "drive.mount('/content/drive')"
      ]
    },
    {
      "cell_type": "code",
      "execution_count": 10,
      "metadata": {
        "id": "4DuF4PK33ps-"
      },
      "outputs": [],
      "source": [
        "import pandas as pd\n",
        "import os\n",
        "import numpy as np"
      ]
    },
    {
      "cell_type": "code",
      "execution_count": 11,
      "metadata": {
        "colab": {
          "base_uri": "https://localhost:8080/"
        },
        "id": "v-SYecL-6MJx",
        "outputId": "27d66fc4-a3c9-4905-db8a-e36f4cdfaeae"
      },
      "outputs": [
        {
          "output_type": "stream",
          "name": "stdout",
          "text": [
            "Папка: running\n",
            "Папка: walking\n",
            "Папка: idle\n",
            "Папка: stairs\n"
          ]
        }
      ],
      "source": [
        "root_path = '/content/drive/My Drive/data'\n",
        "for item in os.listdir(root_path):\n",
        "    item_path = os.path.join(root_path, item)\n",
        "    if os.path.isdir(item_path):\n",
        "        print(f'Папка: {item}')\n",
        "    else:\n",
        "        print(f'Файл: {item}')"
      ]
    },
    {
      "cell_type": "code",
      "execution_count": 12,
      "metadata": {
        "colab": {
          "base_uri": "https://localhost:8080/"
        },
        "id": "0wdyu7aJ6fvw",
        "outputId": "e59f1525-2389-4cf8-80cd-848b912db971"
      },
      "outputs": [
        {
          "output_type": "stream",
          "name": "stdout",
          "text": [
            "   accelerometer_X  accelerometer_Y  accelerometer_Z\n",
            "0       -22.998701        31.598675       -26.297910\n",
            "1        -5.942408         2.935291       -11.113884\n",
            "2         7.886501        14.863204        -8.508993\n",
            "3       -11.836933         1.216255        -8.456321\n",
            "4       -19.306843       -13.919888         3.581726\n",
            "(193860, 3)\n"
          ]
        }
      ],
      "source": [
        "df_list = []\n",
        "\n",
        "for folder_name in os.listdir(root_path):\n",
        "    folder_path = os.path.join(root_path, folder_name)\n",
        "\n",
        "    if os.path.isdir(folder_path):\n",
        "        folder_df_list = []\n",
        "\n",
        "        for file_name in os.listdir(folder_path):\n",
        "            if file_name.endswith('.csv'):\n",
        "                file_path = os.path.join(folder_path, file_name)\n",
        "                df = pd.read_csv(file_path)\n",
        "                folder_df_list.append(df)\n",
        "\n",
        "        if folder_df_list:\n",
        "            combined_folder_df = pd.concat(folder_df_list)\n",
        "            df_list.append(combined_folder_df)\n",
        "\n",
        "combined_df = pd.concat(df_list)\n",
        "\n",
        "print(combined_df.head())\n",
        "print(combined_df.shape)"
      ]
    },
    {
      "cell_type": "code",
      "execution_count": 13,
      "metadata": {
        "colab": {
          "base_uri": "https://localhost:8080/"
        },
        "id": "vRA_sMW26kN_",
        "outputId": "72fa4282-9f62-4ba5-d7d8-3efb552d59ea"
      },
      "outputs": [
        {
          "output_type": "stream",
          "name": "stdout",
          "text": [
            "   accelerometer_X  accelerometer_Y  accelerometer_Z  activity\n",
            "0       -22.998701        31.598675       -26.297910   walking\n",
            "1        -5.942408         2.935291       -11.113884   walking\n",
            "2         7.886501        14.863204        -8.508993   running\n",
            "3       -11.836933         1.216255        -8.456321    stairs\n",
            "4       -19.306843       -13.919888         3.581726  standing\n"
          ]
        }
      ],
      "source": [
        "activities = ['walking', 'running', 'standing', 'stairs']\n",
        "combined_df['activity'] = np.random.choice(activities, size=len(combined_df))\n",
        "print(combined_df.head())"
      ]
    },
    {
      "cell_type": "code",
      "execution_count": 14,
      "metadata": {
        "id": "qKpLXvqU-lvb"
      },
      "outputs": [],
      "source": [
        "from sklearn.svm import SVC\n",
        "from sklearn.ensemble import RandomForestClassifier\n",
        "from sklearn.model_selection import train_test_split\n",
        "from sklearn.metrics import classification_report"
      ]
    },
    {
      "cell_type": "code",
      "execution_count": 15,
      "metadata": {
        "colab": {
          "base_uri": "https://localhost:8080/",
          "height": 75
        },
        "id": "aSHbLnr3-mG3",
        "outputId": "636b7ed7-76aa-4787-9735-aea9af3e4a47"
      },
      "outputs": [
        {
          "output_type": "execute_result",
          "data": {
            "text/plain": [
              "RandomForestClassifier()"
            ],
            "text/html": [
              "<style>#sk-container-id-1 {color: black;background-color: white;}#sk-container-id-1 pre{padding: 0;}#sk-container-id-1 div.sk-toggleable {background-color: white;}#sk-container-id-1 label.sk-toggleable__label {cursor: pointer;display: block;width: 100%;margin-bottom: 0;padding: 0.3em;box-sizing: border-box;text-align: center;}#sk-container-id-1 label.sk-toggleable__label-arrow:before {content: \"▸\";float: left;margin-right: 0.25em;color: #696969;}#sk-container-id-1 label.sk-toggleable__label-arrow:hover:before {color: black;}#sk-container-id-1 div.sk-estimator:hover label.sk-toggleable__label-arrow:before {color: black;}#sk-container-id-1 div.sk-toggleable__content {max-height: 0;max-width: 0;overflow: hidden;text-align: left;background-color: #f0f8ff;}#sk-container-id-1 div.sk-toggleable__content pre {margin: 0.2em;color: black;border-radius: 0.25em;background-color: #f0f8ff;}#sk-container-id-1 input.sk-toggleable__control:checked~div.sk-toggleable__content {max-height: 200px;max-width: 100%;overflow: auto;}#sk-container-id-1 input.sk-toggleable__control:checked~label.sk-toggleable__label-arrow:before {content: \"▾\";}#sk-container-id-1 div.sk-estimator input.sk-toggleable__control:checked~label.sk-toggleable__label {background-color: #d4ebff;}#sk-container-id-1 div.sk-label input.sk-toggleable__control:checked~label.sk-toggleable__label {background-color: #d4ebff;}#sk-container-id-1 input.sk-hidden--visually {border: 0;clip: rect(1px 1px 1px 1px);clip: rect(1px, 1px, 1px, 1px);height: 1px;margin: -1px;overflow: hidden;padding: 0;position: absolute;width: 1px;}#sk-container-id-1 div.sk-estimator {font-family: monospace;background-color: #f0f8ff;border: 1px dotted black;border-radius: 0.25em;box-sizing: border-box;margin-bottom: 0.5em;}#sk-container-id-1 div.sk-estimator:hover {background-color: #d4ebff;}#sk-container-id-1 div.sk-parallel-item::after {content: \"\";width: 100%;border-bottom: 1px solid gray;flex-grow: 1;}#sk-container-id-1 div.sk-label:hover label.sk-toggleable__label {background-color: #d4ebff;}#sk-container-id-1 div.sk-serial::before {content: \"\";position: absolute;border-left: 1px solid gray;box-sizing: border-box;top: 0;bottom: 0;left: 50%;z-index: 0;}#sk-container-id-1 div.sk-serial {display: flex;flex-direction: column;align-items: center;background-color: white;padding-right: 0.2em;padding-left: 0.2em;position: relative;}#sk-container-id-1 div.sk-item {position: relative;z-index: 1;}#sk-container-id-1 div.sk-parallel {display: flex;align-items: stretch;justify-content: center;background-color: white;position: relative;}#sk-container-id-1 div.sk-item::before, #sk-container-id-1 div.sk-parallel-item::before {content: \"\";position: absolute;border-left: 1px solid gray;box-sizing: border-box;top: 0;bottom: 0;left: 50%;z-index: -1;}#sk-container-id-1 div.sk-parallel-item {display: flex;flex-direction: column;z-index: 1;position: relative;background-color: white;}#sk-container-id-1 div.sk-parallel-item:first-child::after {align-self: flex-end;width: 50%;}#sk-container-id-1 div.sk-parallel-item:last-child::after {align-self: flex-start;width: 50%;}#sk-container-id-1 div.sk-parallel-item:only-child::after {width: 0;}#sk-container-id-1 div.sk-dashed-wrapped {border: 1px dashed gray;margin: 0 0.4em 0.5em 0.4em;box-sizing: border-box;padding-bottom: 0.4em;background-color: white;}#sk-container-id-1 div.sk-label label {font-family: monospace;font-weight: bold;display: inline-block;line-height: 1.2em;}#sk-container-id-1 div.sk-label-container {text-align: center;}#sk-container-id-1 div.sk-container {/* jupyter's `normalize.less` sets `[hidden] { display: none; }` but bootstrap.min.css set `[hidden] { display: none !important; }` so we also need the `!important` here to be able to override the default hidden behavior on the sphinx rendered scikit-learn.org. See: https://github.com/scikit-learn/scikit-learn/issues/21755 */display: inline-block !important;position: relative;}#sk-container-id-1 div.sk-text-repr-fallback {display: none;}</style><div id=\"sk-container-id-1\" class=\"sk-top-container\"><div class=\"sk-text-repr-fallback\"><pre>RandomForestClassifier()</pre><b>In a Jupyter environment, please rerun this cell to show the HTML representation or trust the notebook. <br />On GitHub, the HTML representation is unable to render, please try loading this page with nbviewer.org.</b></div><div class=\"sk-container\" hidden><div class=\"sk-item\"><div class=\"sk-estimator sk-toggleable\"><input class=\"sk-toggleable__control sk-hidden--visually\" id=\"sk-estimator-id-1\" type=\"checkbox\" checked><label for=\"sk-estimator-id-1\" class=\"sk-toggleable__label sk-toggleable__label-arrow\">RandomForestClassifier</label><div class=\"sk-toggleable__content\"><pre>RandomForestClassifier()</pre></div></div></div></div></div>"
            ]
          },
          "metadata": {},
          "execution_count": 15
        }
      ],
      "source": [
        "labels = combined_df['activity']\n",
        "X_train, X_test, y_train, y_test = train_test_split(combined_df[['accelerometer_X', 'accelerometer_Y', 'accelerometer_Z']], labels, test_size=0.2, random_state=42)\n",
        "\n",
        "svm_model = SVC()\n",
        "rf_model = RandomForestClassifier()\n",
        "\n",
        "svm_model.fit(X_train, y_train)\n",
        "rf_model.fit(X_train, y_train)"
      ]
    },
    {
      "cell_type": "code",
      "source": [
        "svm_predictions = svm_model.predict(X_test)\n",
        "rf_predictions = rf_model.predict(X_test)"
      ],
      "metadata": {
        "id": "GbYK71Et1C_c"
      },
      "execution_count": 16,
      "outputs": []
    },
    {
      "cell_type": "code",
      "source": [
        "svm_report = classification_report(y_test, svm_predictions)\n",
        "rf_report = classification_report(y_test, rf_predictions)\n",
        "\n",
        "print(\"Classification Report for SVM:\\n\", svm_report)\n",
        "print(\"Classification Report for Random Forest:\\n\", rf_report)"
      ],
      "metadata": {
        "colab": {
          "base_uri": "https://localhost:8080/"
        },
        "id": "YlGFQCrYzdxb",
        "outputId": "90721e3c-470a-4160-ec9d-c80e6581f4d6"
      },
      "execution_count": 17,
      "outputs": [
        {
          "output_type": "stream",
          "name": "stdout",
          "text": [
            "Classification Report for SVM:\n",
            "               precision    recall  f1-score   support\n",
            "\n",
            "     running       0.25      0.39      0.31      9681\n",
            "      stairs       0.24      0.08      0.12      9645\n",
            "    standing       0.25      0.20      0.22      9718\n",
            "     walking       0.25      0.33      0.28      9728\n",
            "\n",
            "    accuracy                           0.25     38772\n",
            "   macro avg       0.25      0.25      0.23     38772\n",
            "weighted avg       0.25      0.25      0.23     38772\n",
            "\n",
            "Classification Report for Random Forest:\n",
            "               precision    recall  f1-score   support\n",
            "\n",
            "     running       0.24      0.25      0.24      9681\n",
            "      stairs       0.25      0.25      0.25      9645\n",
            "    standing       0.25      0.25      0.25      9718\n",
            "     walking       0.25      0.25      0.25      9728\n",
            "\n",
            "    accuracy                           0.25     38772\n",
            "   macro avg       0.25      0.25      0.25     38772\n",
            "weighted avg       0.25      0.25      0.25     38772\n",
            "\n"
          ]
        }
      ]
    },
    {
      "cell_type": "code",
      "source": [
        "from sklearn.metrics import accuracy_score, precision_score, recall_score, f1_score\n",
        "\n",
        "svm_accuracy = accuracy_score(y_test, svm_predictions)\n",
        "rf_accuracy = accuracy_score(y_test, rf_predictions)\n",
        "\n",
        "svm_precision = precision_score(y_test, svm_predictions, average='weighted')\n",
        "rf_precision = precision_score(y_test, rf_predictions, average='weighted')\n",
        "\n",
        "svm_recall = recall_score(y_test, svm_predictions, average='weighted')\n",
        "rf_recall = recall_score(y_test, rf_predictions, average='weighted')\n",
        "\n",
        "svm_f1 = f1_score(y_test, svm_predictions, average='weighted')\n",
        "rf_f1 = f1_score(y_test, rf_predictions, average='weighted')\n",
        "\n",
        "print(\"SVM Accuracy:\", svm_accuracy)\n",
        "print(\"Random Forest Accuracy:\", rf_accuracy)\n",
        "\n",
        "print(\"SVM Precision:\", svm_precision)\n",
        "print(\"Random Forest Precision:\", rf_precision)\n",
        "\n",
        "print(\"SVM Recall:\", svm_recall)\n",
        "print(\"Random Forest Recall:\", rf_recall)\n",
        "\n",
        "print(\"SVM F1-score:\", svm_f1)\n",
        "print(\"Random Forest F1-score:\", rf_f1)"
      ],
      "metadata": {
        "colab": {
          "base_uri": "https://localhost:8080/"
        },
        "id": "dsmWu4jTziUH",
        "outputId": "a495474d-2bce-47f0-f736-ae0e20f16a9b"
      },
      "execution_count": 18,
      "outputs": [
        {
          "output_type": "stream",
          "name": "stdout",
          "text": [
            "SVM Accuracy: 0.25028370989373777\n",
            "Random Forest Accuracy: 0.2485040751057464\n",
            "SVM Precision: 0.24813876442092325\n",
            "Random Forest Precision: 0.24855099552769863\n",
            "SVM Recall: 0.25028370989373777\n",
            "Random Forest Recall: 0.2485040751057464\n",
            "SVM F1-score: 0.23404811896907812\n",
            "Random Forest F1-score: 0.24851384249245081\n"
          ]
        }
      ]
    }
  ],
  "metadata": {
    "colab": {
      "provenance": []
    },
    "kernelspec": {
      "display_name": "Python 3",
      "name": "python3"
    },
    "language_info": {
      "name": "python"
    }
  },
  "nbformat": 4,
  "nbformat_minor": 0
}