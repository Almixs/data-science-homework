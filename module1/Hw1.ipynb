{
 "cells": [
  {
   "cell_type": "code",
   "execution_count": 4,
   "id": "6d64a753",
   "metadata": {},
   "outputs": [],
   "source": [
    "import numpy as np"
   ]
  },
  {
   "cell_type": "code",
   "execution_count": 5,
   "id": "34104e65",
   "metadata": {},
   "outputs": [
    {
     "name": "stdout",
     "output_type": "stream",
     "text": [
      "[ 1  2  3  4  5  6  7  8  9 10]\n"
     ]
    }
   ],
   "source": [
    "#ex1\n",
    "one = np.arange(1, 11)\n",
    "print(one)"
   ]
  },
  {
   "cell_type": "code",
   "execution_count": 6,
   "id": "bfdd15cb",
   "metadata": {},
   "outputs": [
    {
     "name": "stdout",
     "output_type": "stream",
     "text": [
      "[[0. 0. 0.]\n",
      " [0. 0. 0.]\n",
      " [0. 0. 0.]]\n"
     ]
    }
   ],
   "source": [
    "#ex2\n",
    "two = np.zeros((3,3))\n",
    "print(two)"
   ]
  },
  {
   "cell_type": "code",
   "execution_count": 7,
   "id": "c6303c68",
   "metadata": {},
   "outputs": [
    {
     "name": "stdout",
     "output_type": "stream",
     "text": [
      "[[ 4  9  2  8  6]\n",
      " [ 5  5  7  1  5]\n",
      " [ 2  2  7  5  4]\n",
      " [ 5  3  9 10  3]\n",
      " [ 6  2  4  7  9]]\n"
     ]
    }
   ],
   "source": [
    "#ex3\n",
    "three = np.random.randint(1, 11, size=(5,5))\n",
    "print(three)"
   ]
  },
  {
   "cell_type": "code",
   "execution_count": 8,
   "id": "72cf45d5",
   "metadata": {},
   "outputs": [
    {
     "name": "stdout",
     "output_type": "stream",
     "text": [
      "[[0.35608164 0.81308666 0.33004668 0.83570459]\n",
      " [0.67766267 0.09296619 0.12796271 0.31851915]\n",
      " [0.24899016 0.12308421 0.57491665 0.18163559]\n",
      " [0.15909508 0.40782651 0.35035208 0.17905639]]\n"
     ]
    }
   ],
   "source": [
    "#ex4\n",
    "four = np.random.rand(4,4)\n",
    "print(four)"
   ]
  },
  {
   "cell_type": "code",
   "execution_count": 15,
   "id": "199bea3b",
   "metadata": {},
   "outputs": [
    {
     "name": "stdout",
     "output_type": "stream",
     "text": [
      "Перший масив: [ 7 10  4  6 10]\n",
      "Другий масив: [2 5 1 5 2]\n",
      "Сума масивів: [ 9 15  5 11 12]\n",
      "Різниця масивів: [5 5 3 1 8]\n",
      "Добуток масивів: [14 50  4 30 20]\n"
     ]
    }
   ],
   "source": [
    "#ex5\n",
    "first_five = np.random.randint(1, 11, size=5)\n",
    "second_five = np.random.randint(1, 11, size=5)\n",
    "\n",
    "print(\"Перший масив:\", first_five)\n",
    "print(\"Другий масив:\", second_five)\n",
    "\n",
    "print(\"Сума масивів:\", np.add(first_five, second_five))\n",
    "print(\"Різниця масивів:\", np.subtract(first_five, second_five))\n",
    "print(\"Добуток масивів:\", np.multiply(first_five, second_five))"
   ]
  },
  {
   "cell_type": "code",
   "execution_count": 17,
   "id": "765c2aa9",
   "metadata": {},
   "outputs": [
    {
     "name": "stdout",
     "output_type": "stream",
     "text": [
      "Перший вектор: [8 8 6 4 1 3 6]\n",
      "Другий вектор: [1 7 5 2 7 9 1]\n",
      "Скалярний добуток: 142\n"
     ]
    }
   ],
   "source": [
    "#ex6\n",
    "first_veсtor = np.random.randint(1, 10, 7)\n",
    "second_veсtor = np.random.randint(1, 10, 7)\n",
    "\n",
    "print(\"Перший вектор:\", first_veсtor)\n",
    "print(\"Другий вектор:\", second_veсtor)\n",
    "\n",
    "dot = np.dot(first_veсtor, second_veсtor)\n",
    "\n",
    "print(\"Скалярний добуток:\", dot)"
   ]
  },
  {
   "cell_type": "code",
   "execution_count": 19,
   "id": "9d3a18db",
   "metadata": {},
   "outputs": [
    {
     "name": "stdout",
     "output_type": "stream",
     "text": [
      "Перша матриця:\n",
      " [[1 9]\n",
      " [3 4]]\n",
      "Друга матриця:\n",
      " [[2 8 3]\n",
      " [6 5 1]]\n",
      "Результат множення матриць:\n",
      " [[56 53 12]\n",
      " [30 44 13]]\n"
     ]
    }
   ],
   "source": [
    "#ex7\n",
    "first_matrix = np.random.randint(1, 10, size=(2, 2))\n",
    "second_matrix = np.random.randint(1, 10, size=(2, 3))\n",
    "\n",
    "print(\"Перша матриця:\\n\", first_matrix)\n",
    "print(\"Друга матриця:\\n\", second_matrix)\n",
    "\n",
    "dot_matrix = np.dot(first_matrix, second_matrix)\n",
    "\n",
    "print(\"Результат множення матриць:\\n\", dot_matrix)"
   ]
  },
  {
   "cell_type": "code",
   "execution_count": 21,
   "id": "26c97389",
   "metadata": {},
   "outputs": [
    {
     "name": "stdout",
     "output_type": "stream",
     "text": [
      "Початкова матриця:\n",
      " [[7 2 2]\n",
      " [4 8 8]\n",
      " [5 7 4]]\n",
      "Транспонована матриця:\n",
      " [[7 4 5]\n",
      " [2 8 7]\n",
      " [2 8 4]]\n"
     ]
    }
   ],
   "source": [
    "#ex8\n",
    "matrix = np.random.randint(1, 10, size=(3, 3))\n",
    "\n",
    "print(\"Початкова матриця:\\n\", matrix)\n",
    "\n",
    "transposed_matrix = matrix.T\n",
    "\n",
    "print(\"Транспонована матриця:\\n\", transposed_matrix)"
   ]
  },
  {
   "cell_type": "code",
   "execution_count": 22,
   "id": "32be6b75",
   "metadata": {},
   "outputs": [
    {
     "name": "stdout",
     "output_type": "stream",
     "text": [
      "Початкова матриця:\n",
      " [[0.46498175 0.70110227 0.90860339 0.02850839]\n",
      " [0.83463106 0.66877788 0.11741108 0.90923025]\n",
      " [0.35194906 0.43654151 0.58790603 0.20979628]\n",
      " [0.88852056 0.70777415 0.31954848 0.35548071]]\n",
      "Транспонована матриця:\n",
      " [[0.46498175 0.83463106 0.35194906 0.88852056]\n",
      " [0.70110227 0.66877788 0.43654151 0.70777415]\n",
      " [0.90860339 0.11741108 0.58790603 0.31954848]\n",
      " [0.02850839 0.90923025 0.20979628 0.35548071]]\n"
     ]
    }
   ],
   "source": [
    "#ex9\n",
    "matrix = np.random.rand(4, 4)\n",
    "\n",
    "print(\"Початкова матриця:\\n\", matrix)\n",
    "\n",
    "transposed_matrix = matrix.T\n",
    "\n",
    "print(\"Транспонована матриця:\\n\", transposed_matrix)"
   ]
  },
  {
   "cell_type": "code",
   "execution_count": 23,
   "id": "ad94f5cc",
   "metadata": {},
   "outputs": [
    {
     "name": "stdout",
     "output_type": "stream",
     "text": [
      "Матриця:\n",
      " [[3 3 3 8]\n",
      " [5 7 5 9]\n",
      " [9 3 7 2]]\n",
      "\n",
      "Вектор:\n",
      " [3 8 8 1]\n",
      "\n",
      "Результат множення матриці на вектор:\n",
      " [ 65 120 109]\n"
     ]
    }
   ],
   "source": [
    "#ex10\n",
    "matrix = np.random.randint(1, 10, size=(3, 4))\n",
    "vector = np.random.randint(1, 10, size=4)\n",
    "print(\"Матриця:\\n\", matrix)\n",
    "print(\"\\nВектор:\\n\", vector)\n",
    "\n",
    "result = np.dot(matrix, vector)\n",
    "\n",
    "print(\"\\nРезультат множення матриці на вектор:\\n\", result)"
   ]
  },
  {
   "cell_type": "code",
   "execution_count": 24,
   "id": "17087f77",
   "metadata": {},
   "outputs": [
    {
     "name": "stdout",
     "output_type": "stream",
     "text": [
      "Матриця:\n",
      " [[0.15227317 0.06744676 0.21121058]\n",
      " [0.76594038 0.18848333 0.76757262]]\n",
      "\n",
      "Вектор:\n",
      " [0.69122708 0.48523901 0.91647383]\n",
      "\n",
      "Результат множення матриці на вектор:\n",
      " [0.33155211 1.32435841]\n"
     ]
    }
   ],
   "source": [
    "#ex11\n",
    "matrix = np.random.rand(2, 3)\n",
    "vector = np.random.rand(3)\n",
    "\n",
    "print(\"Матриця:\\n\", matrix)\n",
    "print(\"\\nВектор:\\n\", vector)\n",
    "\n",
    "result = np.dot(matrix, vector)\n",
    "\n",
    "print(\"\\nРезультат множення матриці на вектор:\\n\", result)"
   ]
  },
  {
   "cell_type": "code",
   "execution_count": 25,
   "id": "d95a9137",
   "metadata": {},
   "outputs": [
    {
     "name": "stdout",
     "output_type": "stream",
     "text": [
      "Перша матриця:\n",
      " [[1 7]\n",
      " [2 4]]\n",
      "\n",
      "Друга матриця:\n",
      " [[2 1]\n",
      " [5 8]]\n",
      "\n",
      "Результат поелементного множення:\n",
      " [[ 2  7]\n",
      " [10 32]]\n"
     ]
    }
   ],
   "source": [
    "#ex12\n",
    "first_matrix = np.random.randint(1, 10, size=(2, 2))\n",
    "second_matrix = np.random.randint(1, 10, size=(2, 2))\n",
    "\n",
    "print(\"Перша матриця:\\n\", first_matrix)\n",
    "print(\"\\nДруга матриця:\\n\", second_matrix)\n",
    "\n",
    "elementwise_product = np.multiply(first_matrix, second_matrix)\n",
    "\n",
    "print(\"\\nРезультат поелементного множення:\\n\", elementwise_product)"
   ]
  },
  {
   "cell_type": "code",
   "execution_count": 26,
   "id": "a258583d",
   "metadata": {},
   "outputs": [
    {
     "name": "stdout",
     "output_type": "stream",
     "text": [
      "Перша матриця:\n",
      " [[4 8]\n",
      " [9 7]]\n",
      "\n",
      "Друга матриця:\n",
      " [[8 6]\n",
      " [4 5]]\n",
      "\n",
      "Добуток матриць:\n",
      " [[ 64  64]\n",
      " [100  89]]\n"
     ]
    }
   ],
   "source": [
    "#ex13\n",
    "first_matrix = np.random.randint(1, 10, size=(2, 2))\n",
    "second_matrix = np.random.randint(1, 10, size=(2, 2))\n",
    "\n",
    "print(\"Перша матриця:\\n\", first_matrix)\n",
    "print(\"\\nДруга матриця:\\n\", second_matrix)\n",
    "\n",
    "product_matrix = np.dot(first_matrix, second_matrix)\n",
    "\n",
    "print(\"\\nДобуток матриць:\\n\", product_matrix)"
   ]
  },
  {
   "cell_type": "code",
   "execution_count": 27,
   "id": "d7153c13",
   "metadata": {},
   "outputs": [
    {
     "name": "stdout",
     "output_type": "stream",
     "text": [
      "Матриця:\n",
      " [[28 99 75 17 26]\n",
      " [45 92 85  4 61]\n",
      " [ 5 44  2 70 96]\n",
      " [55 73 43 76 87]\n",
      " [50 79 92 45 23]]\n",
      "\n",
      "Сума елементів матриці: 1372\n"
     ]
    }
   ],
   "source": [
    "#ex14\n",
    "matrix = np.random.randint(1, 101, size=(5, 5))\n",
    "\n",
    "print(\"Матриця:\\n\", matrix)\n",
    "\n",
    "sum_of_elements = np.sum(matrix)\n",
    "\n",
    "print(\"\\nСума елементів матриці:\", sum_of_elements)"
   ]
  },
  {
   "cell_type": "code",
   "execution_count": 28,
   "id": "36edcf18",
   "metadata": {},
   "outputs": [
    {
     "name": "stdout",
     "output_type": "stream",
     "text": [
      "Перша матриця:\n",
      " [[ 9  6 10  9]\n",
      " [ 7  6  7  5]\n",
      " [ 5  5  4  9]\n",
      " [ 8  2  1  1]]\n",
      "\n",
      "Друга матриця:\n",
      " [[7 3 8 6]\n",
      " [7 2 8 1]\n",
      " [3 6 1 9]\n",
      " [6 4 3 1]]\n",
      "\n",
      "Різниця матриць:\n",
      " [[ 2  3  2  3]\n",
      " [ 0  4 -1  4]\n",
      " [ 2 -1  3  0]\n",
      " [ 2 -2 -2  0]]\n"
     ]
    }
   ],
   "source": [
    "#ex15\n",
    "first_matrix = np.random.randint(1, 11, size=(4, 4))\n",
    "second_matrix = np.random.randint(1, 11, size=(4, 4))\n",
    "\n",
    "print(\"Перша матриця:\\n\", first_matrix)\n",
    "print(\"\\nДруга матриця:\\n\", second_matrix)\n",
    "\n",
    "difference_matrix = first_matrix - second_matrix\n",
    "\n",
    "print(\"\\nРізниця матриць:\\n\", difference_matrix)"
   ]
  },
  {
   "cell_type": "code",
   "execution_count": 29,
   "id": "959570a2",
   "metadata": {},
   "outputs": [
    {
     "name": "stdout",
     "output_type": "stream",
     "text": [
      "Матриця:\n",
      " [[0.10077214 0.14388451 0.11548759]\n",
      " [0.50615334 0.88742198 0.95769182]\n",
      " [0.13687079 0.79683894 0.03754747]]\n",
      "\n",
      "Вектор-стовпчик з сумами елементів кожного рядка матриці:\n",
      " [[0.36014424]\n",
      " [2.35126714]\n",
      " [0.97125719]]\n"
     ]
    }
   ],
   "source": [
    "#ex16\n",
    "matrix = np.random.rand(3, 3)\n",
    "\n",
    "print(\"Матриця:\\n\", matrix)\n",
    "\n",
    "sum_vector = np.sum(matrix, axis=1)\n",
    "sum_vector_column = sum_vector.reshape(-1, 1)\n",
    "\n",
    "print(\"\\nВектор-стовпчик з сумами елементів кожного рядка матриці:\\n\", sum_vector_column)"
   ]
  },
  {
   "cell_type": "code",
   "execution_count": 30,
   "id": "4d6f4173",
   "metadata": {},
   "outputs": [
    {
     "name": "stdout",
     "output_type": "stream",
     "text": [
      "Початкова матриця:\n",
      " [[9 8 2 5]\n",
      " [9 4 4 5]\n",
      " [4 8 3 7]]\n",
      "\n",
      "Матриця з квадратами чисел:\n",
      " [[81 64  4 25]\n",
      " [81 16 16 25]\n",
      " [16 64  9 49]]\n"
     ]
    }
   ],
   "source": [
    "#ex17\n",
    "matrix = np.random.randint(1, 10, size=(3, 4))\n",
    "\n",
    "print(\"Початкова матриця:\\n\", matrix)\n",
    "\n",
    "squared_matrix = np.square(matrix)\n",
    "\n",
    "print(\"\\nМатриця з квадратами чисел:\\n\", squared_matrix)"
   ]
  },
  {
   "cell_type": "code",
   "execution_count": 32,
   "id": "29ad4ee8",
   "metadata": {},
   "outputs": [
    {
     "name": "stdout",
     "output_type": "stream",
     "text": [
      "Початковий вектор:\n",
      " [46 17 13 39]\n",
      "\n",
      "Вектор з квадратними коренями чисел:\n",
      " [6.78232998 4.12310563 3.60555128 6.244998  ]\n"
     ]
    }
   ],
   "source": [
    "#ex18\n",
    "vector = np.random.randint(1, 51, size=4)\n",
    "\n",
    "print(\"Початковий вектор:\\n\", vector)\n",
    "\n",
    "sqrt_vector = np.sqrt(vector)\n",
    "\n",
    "print(\"\\nВектор з квадратними коренями чисел:\\n\", sqrt_vector)"
   ]
  }
 ],
 "metadata": {
  "kernelspec": {
   "display_name": "Python 3 (ipykernel)",
   "language": "python",
   "name": "python3"
  },
  "language_info": {
   "codemirror_mode": {
    "name": "ipython",
    "version": 3
   },
   "file_extension": ".py",
   "mimetype": "text/x-python",
   "name": "python",
   "nbconvert_exporter": "python",
   "pygments_lexer": "ipython3",
   "version": "3.11.5"
  }
 },
 "nbformat": 4,
 "nbformat_minor": 5
}
