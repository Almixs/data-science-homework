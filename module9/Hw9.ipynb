{
  "nbformat": 4,
  "nbformat_minor": 0,
  "metadata": {
    "colab": {
      "provenance": [],
      "toc_visible": true
    },
    "kernelspec": {
      "name": "python3",
      "display_name": "Python 3"
    },
    "language_info": {
      "name": "python"
    }
  },
  "cells": [
    {
      "cell_type": "code",
      "execution_count": 127,
      "metadata": {
        "id": "7z0t5DY4MQcP"
      },
      "outputs": [],
      "source": [
        "import tensorflow as tf\n",
        "from tensorflow import keras\n",
        "from tensorflow.keras.utils import to_categorical\n",
        "from tensorflow.keras import regularizers\n",
        "from sklearn.model_selection import train_test_split"
      ]
    },
    {
      "cell_type": "code",
      "source": [
        "fashion_mnist = keras.datasets.fashion_mnist\n",
        "(train_images, train_labels), (test_images, test_labels) = fashion_mnist.load_data()"
      ],
      "metadata": {
        "id": "lpZQH0wmNVE2"
      },
      "execution_count": 122,
      "outputs": []
    },
    {
      "cell_type": "code",
      "source": [
        "train_images = train_images.astype('float32') / 255.0\n",
        "test_images = test_images.astype('float32') / 255.0\n",
        "\n",
        "num_classes = 10  # Кількість класів у датасеті Fashion MNIST\n",
        "train_labels = to_categorical(train_labels, num_classes=num_classes)\n",
        "test_labels = to_categorical(test_labels, num_classes=num_classes)"
      ],
      "metadata": {
        "id": "rvSDljJXNazW"
      },
      "execution_count": 123,
      "outputs": []
    },
    {
      "cell_type": "code",
      "source": [
        "train_images, val_images, train_labels, val_labels = train_test_split(train_images, train_labels, test_size=0.2, random_state=42)\n",
        "\n",
        "model = keras.Sequential([\n",
        "    keras.layers.Flatten(input_shape=(28, 28)),\n",
        "    keras.layers.Dense(128, activation='relu'),\n",
        "    keras.layers.Dense(128, activation='relu'),\n",
        "    keras.layers.Dropout(0.2),\n",
        "    keras.layers.Dense(num_classes, activation='softmax')\n",
        "])"
      ],
      "metadata": {
        "id": "yNyezJRxOIRm"
      },
      "execution_count": 124,
      "outputs": []
    },
    {
      "cell_type": "code",
      "source": [
        "model.compile(optimizer='adam',\n",
        "              loss='categorical_crossentropy',\n",
        "              metrics=['accuracy'])"
      ],
      "metadata": {
        "id": "0oj3MxBoOeFV"
      },
      "execution_count": 125,
      "outputs": []
    },
    {
      "cell_type": "code",
      "source": [
        "history = model.fit(train_images, train_labels, epochs=24, batch_size=128, validation_data=(val_images, val_labels))\n",
        "\n",
        "test_loss, test_acc = model.evaluate(test_images, test_labels)\n",
        "print(f'Test accuracy: {test_acc * 100:.2f}%')"
      ],
      "metadata": {
        "colab": {
          "base_uri": "https://localhost:8080/"
        },
        "id": "hAi2Wn1OOhzj",
        "outputId": "ff5f248e-bbc7-4fcb-9f3a-4558ac5109e5"
      },
      "execution_count": 126,
      "outputs": [
        {
          "output_type": "stream",
          "name": "stdout",
          "text": [
            "Epoch 1/24\n",
            "375/375 [==============================] - 5s 12ms/step - loss: 0.6020 - accuracy: 0.7896 - val_loss: 0.4434 - val_accuracy: 0.8399\n",
            "Epoch 2/24\n",
            "375/375 [==============================] - 3s 8ms/step - loss: 0.4156 - accuracy: 0.8511 - val_loss: 0.3849 - val_accuracy: 0.8601\n",
            "Epoch 3/24\n",
            "375/375 [==============================] - 3s 8ms/step - loss: 0.3716 - accuracy: 0.8649 - val_loss: 0.3609 - val_accuracy: 0.8704\n",
            "Epoch 4/24\n",
            "375/375 [==============================] - 3s 9ms/step - loss: 0.3406 - accuracy: 0.8760 - val_loss: 0.3512 - val_accuracy: 0.8742\n",
            "Epoch 5/24\n",
            "375/375 [==============================] - 4s 10ms/step - loss: 0.3193 - accuracy: 0.8841 - val_loss: 0.3339 - val_accuracy: 0.8759\n",
            "Epoch 6/24\n",
            "375/375 [==============================] - 3s 9ms/step - loss: 0.3035 - accuracy: 0.8885 - val_loss: 0.3307 - val_accuracy: 0.8820\n",
            "Epoch 7/24\n",
            "375/375 [==============================] - 3s 8ms/step - loss: 0.2931 - accuracy: 0.8916 - val_loss: 0.3159 - val_accuracy: 0.8848\n",
            "Epoch 8/24\n",
            "375/375 [==============================] - 3s 9ms/step - loss: 0.2823 - accuracy: 0.8950 - val_loss: 0.3294 - val_accuracy: 0.8817\n",
            "Epoch 9/24\n",
            "375/375 [==============================] - 3s 9ms/step - loss: 0.2736 - accuracy: 0.8997 - val_loss: 0.3206 - val_accuracy: 0.8833\n",
            "Epoch 10/24\n",
            "375/375 [==============================] - 3s 8ms/step - loss: 0.2660 - accuracy: 0.9002 - val_loss: 0.3197 - val_accuracy: 0.8848\n",
            "Epoch 11/24\n",
            "375/375 [==============================] - 3s 8ms/step - loss: 0.2557 - accuracy: 0.9047 - val_loss: 0.3117 - val_accuracy: 0.8873\n",
            "Epoch 12/24\n",
            "375/375 [==============================] - 3s 9ms/step - loss: 0.2480 - accuracy: 0.9081 - val_loss: 0.3246 - val_accuracy: 0.8870\n",
            "Epoch 13/24\n",
            "375/375 [==============================] - 4s 9ms/step - loss: 0.2376 - accuracy: 0.9113 - val_loss: 0.3059 - val_accuracy: 0.8907\n",
            "Epoch 14/24\n",
            "375/375 [==============================] - 3s 8ms/step - loss: 0.2314 - accuracy: 0.9127 - val_loss: 0.3223 - val_accuracy: 0.8854\n",
            "Epoch 15/24\n",
            "375/375 [==============================] - 3s 8ms/step - loss: 0.2258 - accuracy: 0.9150 - val_loss: 0.3063 - val_accuracy: 0.8918\n",
            "Epoch 16/24\n",
            "375/375 [==============================] - 4s 10ms/step - loss: 0.2191 - accuracy: 0.9178 - val_loss: 0.3238 - val_accuracy: 0.8861\n",
            "Epoch 17/24\n",
            "375/375 [==============================] - 3s 9ms/step - loss: 0.2143 - accuracy: 0.9190 - val_loss: 0.3098 - val_accuracy: 0.8907\n",
            "Epoch 18/24\n",
            "375/375 [==============================] - 3s 8ms/step - loss: 0.2120 - accuracy: 0.9208 - val_loss: 0.3056 - val_accuracy: 0.8915\n",
            "Epoch 19/24\n",
            "375/375 [==============================] - 3s 8ms/step - loss: 0.2023 - accuracy: 0.9236 - val_loss: 0.3091 - val_accuracy: 0.8914\n",
            "Epoch 20/24\n",
            "375/375 [==============================] - 4s 10ms/step - loss: 0.1945 - accuracy: 0.9259 - val_loss: 0.3442 - val_accuracy: 0.8883\n",
            "Epoch 21/24\n",
            "375/375 [==============================] - 3s 9ms/step - loss: 0.1905 - accuracy: 0.9283 - val_loss: 0.3061 - val_accuracy: 0.8953\n",
            "Epoch 22/24\n",
            "375/375 [==============================] - 3s 8ms/step - loss: 0.1886 - accuracy: 0.9284 - val_loss: 0.3208 - val_accuracy: 0.8953\n",
            "Epoch 23/24\n",
            "375/375 [==============================] - 3s 7ms/step - loss: 0.1841 - accuracy: 0.9307 - val_loss: 0.3561 - val_accuracy: 0.8892\n",
            "Epoch 24/24\n",
            "375/375 [==============================] - 4s 9ms/step - loss: 0.1809 - accuracy: 0.9314 - val_loss: 0.3228 - val_accuracy: 0.8926\n",
            "313/313 [==============================] - 1s 2ms/step - loss: 0.3525 - accuracy: 0.8866\n",
            "Test accuracy: 88.66%\n"
          ]
        }
      ]
    }
  ]
}