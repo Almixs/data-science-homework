{
  "nbformat": 4,
  "nbformat_minor": 0,
  "metadata": {
    "colab": {
      "provenance": [],
      "toc_visible": true
    },
    "kernelspec": {
      "name": "python3",
      "display_name": "Python 3"
    },
    "language_info": {
      "name": "python"
    }
  },
  "cells": [
    {
      "cell_type": "code",
      "execution_count": 200,
      "metadata": {
        "id": "7z0t5DY4MQcP"
      },
      "outputs": [],
      "source": [
        "import numpy as np\n",
        "from tensorflow import keras\n",
        "from tensorflow.keras.datasets import imdb\n",
        "from tensorflow.keras.models import Sequential\n",
        "from tensorflow.keras.layers import Dense, LSTM, Embedding, Bidirectional\n",
        "from tensorflow.keras.preprocessing import sequence"
      ]
    },
    {
      "cell_type": "code",
      "source": [
        "max_words = 10000\n",
        "maxlen = 200\n",
        "(x_train, y_train), (x_test, y_test) = imdb.load_data(num_words=max_words)\n",
        "x_train = sequence.pad_sequences(x_train, maxlen=maxlen)\n",
        "x_test = sequence.pad_sequences(x_test, maxlen=maxlen)"
      ],
      "metadata": {
        "id": "lpZQH0wmNVE2"
      },
      "execution_count": 201,
      "outputs": []
    },
    {
      "cell_type": "code",
      "source": [
        "model_rnn = Sequential()\n",
        "model_rnn.add(Embedding(max_words, 128, input_length=maxlen))\n",
        "model_rnn.add(LSTM(128))\n",
        "model_rnn.add(Dense(1, activation='sigmoid'))\n",
        "model_rnn.compile(optimizer='adam', loss='binary_crossentropy', metrics=['accuracy'])"
      ],
      "metadata": {
        "id": "rvSDljJXNazW"
      },
      "execution_count": 202,
      "outputs": []
    },
    {
      "cell_type": "code",
      "source": [
        "model_rnn.fit(x_train, y_train, epochs=5, batch_size=64, validation_split=0.2)\n",
        "\n",
        "test_loss_rnn, test_acc_rnn = model_rnn.evaluate(x_test, y_test)\n",
        "print(f'RNN Test accuracy: {test_acc_rnn * 100:.2f}%')"
      ],
      "metadata": {
        "id": "yNyezJRxOIRm",
        "colab": {
          "base_uri": "https://localhost:8080/"
        },
        "outputId": "e3711758-761a-4288-ce3d-237fe7721df0"
      },
      "execution_count": 203,
      "outputs": [
        {
          "output_type": "stream",
          "name": "stdout",
          "text": [
            "Epoch 1/5\n",
            "313/313 [==============================] - 204s 642ms/step - loss: 0.4520 - accuracy: 0.7856 - val_loss: 0.3425 - val_accuracy: 0.8558\n",
            "Epoch 2/5\n",
            "313/313 [==============================] - 198s 634ms/step - loss: 0.2510 - accuracy: 0.9021 - val_loss: 0.3134 - val_accuracy: 0.8690\n",
            "Epoch 3/5\n",
            "313/313 [==============================] - 204s 653ms/step - loss: 0.1893 - accuracy: 0.9310 - val_loss: 0.3653 - val_accuracy: 0.8700\n",
            "Epoch 4/5\n",
            "313/313 [==============================] - 203s 649ms/step - loss: 0.1309 - accuracy: 0.9523 - val_loss: 0.3710 - val_accuracy: 0.8586\n",
            "Epoch 5/5\n",
            "313/313 [==============================] - 204s 651ms/step - loss: 0.0998 - accuracy: 0.9658 - val_loss: 0.4517 - val_accuracy: 0.8496\n",
            "782/782 [==============================] - 106s 136ms/step - loss: 0.4722 - accuracy: 0.8416\n",
            "RNN Test accuracy: 84.16%\n"
          ]
        }
      ]
    },
    {
      "cell_type": "code",
      "source": [
        "model_lstm = Sequential()\n",
        "model_lstm.add(Embedding(max_words, 128, input_length=maxlen))\n",
        "model_lstm.add(LSTM(128))\n",
        "model_lstm.add(Dense(1, activation='sigmoid'))\n",
        "model_lstm.compile(optimizer='adam', loss='binary_crossentropy', metrics=['accuracy'])"
      ],
      "metadata": {
        "id": "hAi2Wn1OOhzj"
      },
      "execution_count": 204,
      "outputs": []
    },
    {
      "cell_type": "code",
      "source": [
        "model_lstm.fit(x_train, y_train, epochs=5, batch_size=64, validation_split=0.2)\n",
        "\n",
        "test_loss_lstm, test_acc_lstm = model_lstm.evaluate(x_test, y_test)\n",
        "print(f'LSTM Test accuracy: {test_acc_lstm * 100:.2f}%')"
      ],
      "metadata": {
        "id": "edQ6dR555XWG",
        "outputId": "69437214-b0f8-40ba-c113-787bd89cf69d",
        "colab": {
          "base_uri": "https://localhost:8080/"
        }
      },
      "execution_count": 205,
      "outputs": [
        {
          "output_type": "stream",
          "name": "stdout",
          "text": [
            "Epoch 1/5\n",
            "313/313 [==============================] - 197s 621ms/step - loss: 0.4502 - accuracy: 0.7825 - val_loss: 0.3413 - val_accuracy: 0.8542\n",
            "Epoch 2/5\n",
            "313/313 [==============================] - 197s 629ms/step - loss: 0.2613 - accuracy: 0.8985 - val_loss: 0.3511 - val_accuracy: 0.8504\n",
            "Epoch 3/5\n",
            "313/313 [==============================] - 190s 608ms/step - loss: 0.1824 - accuracy: 0.9327 - val_loss: 0.3519 - val_accuracy: 0.8654\n",
            "Epoch 4/5\n",
            "313/313 [==============================] - 178s 569ms/step - loss: 0.1279 - accuracy: 0.9553 - val_loss: 0.4265 - val_accuracy: 0.8636\n",
            "Epoch 5/5\n",
            "313/313 [==============================] - 173s 554ms/step - loss: 0.1066 - accuracy: 0.9619 - val_loss: 0.4550 - val_accuracy: 0.8472\n",
            "782/782 [==============================] - 93s 119ms/step - loss: 0.4791 - accuracy: 0.8449\n",
            "LSTM Test accuracy: 84.49%\n"
          ]
        }
      ]
    },
    {
      "cell_type": "code",
      "source": [
        "model_bidirectional = Sequential()\n",
        "model_bidirectional.add(Embedding(max_words, 128, input_length=maxlen))\n",
        "model_bidirectional.add(Bidirectional(LSTM(128)))\n",
        "model_bidirectional.add(Dense(1, activation='sigmoid'))\n",
        "model_bidirectional.compile(optimizer='adam', loss='binary_crossentropy', metrics=['accuracy'])"
      ],
      "metadata": {
        "id": "cwwuSp7c5Zj7"
      },
      "execution_count": 206,
      "outputs": []
    },
    {
      "cell_type": "code",
      "source": [
        "model_bidirectional.fit(x_train, y_train, epochs=5, batch_size=64, validation_split=0.2)\n",
        "\n",
        "test_loss_bidirectional, test_acc_bidirectional = model_bidirectional.evaluate(x_test, y_test)\n",
        "print(f'Bidirectional LSTM Test accuracy: {test_acc_bidirectional * 100:.2f}%')"
      ],
      "metadata": {
        "id": "a_s6AYJe5ioT",
        "colab": {
          "base_uri": "https://localhost:8080/"
        },
        "outputId": "e1f0d7ce-f5f2-43c6-9645-af029cbb3f41"
      },
      "execution_count": 207,
      "outputs": [
        {
          "output_type": "stream",
          "name": "stdout",
          "text": [
            "Epoch 1/5\n",
            "313/313 [==============================] - 296s 931ms/step - loss: 0.4052 - accuracy: 0.8094 - val_loss: 0.3202 - val_accuracy: 0.8678\n",
            "Epoch 2/5\n",
            "313/313 [==============================] - 303s 968ms/step - loss: 0.2404 - accuracy: 0.9082 - val_loss: 0.3157 - val_accuracy: 0.8740\n",
            "Epoch 3/5\n",
            "313/313 [==============================] - 300s 959ms/step - loss: 0.1772 - accuracy: 0.9352 - val_loss: 0.3803 - val_accuracy: 0.8630\n",
            "Epoch 4/5\n",
            "313/313 [==============================] - 296s 948ms/step - loss: 0.1407 - accuracy: 0.9487 - val_loss: 0.3900 - val_accuracy: 0.8476\n",
            "Epoch 5/5\n",
            "313/313 [==============================] - 292s 932ms/step - loss: 0.1033 - accuracy: 0.9638 - val_loss: 0.4240 - val_accuracy: 0.8504\n",
            "782/782 [==============================] - 146s 187ms/step - loss: 0.4486 - accuracy: 0.8427\n",
            "Bidirectional LSTM Test accuracy: 84.27%\n"
          ]
        }
      ]
    }
  ]
}